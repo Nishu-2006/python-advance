{
 "cells": [
  {
   "cell_type": "markdown",
   "id": "b7a36627-0203-4d54-aad7-4853a77a7f45",
   "metadata": {},
   "source": [
    "<h1>🍒🍒library in python🍒🍒</h1>\n",
    "-NumPy\n",
    "-Pandas\n",
    "-MatPlotib\n",
    "-Seaborn\n",
    "-Plotly\n",
    "-SciPy\n",
    "\n",
    "\n",
    "#NumPy:  Numeric Python....\n",
    "-Package for scientific computing in pythn.\n",
    "-NumPy s Library that provides n-dimensional array objects.\n",
    "-Fast operation of arrays including logical,shape manipulating,sorting,selecting,discrete mathematics,fourier Transforms,Basic linear algebra,stastical  operation,randoom simulation and many more."
   ]
  },
  {
   "cell_type": "code",
   "execution_count": 2,
   "id": "9b47b598-4d38-4a14-b25d-a62e8652d0a6",
   "metadata": {},
   "outputs": [
    {
     "name": "stdout",
     "output_type": "stream",
     "text": [
      "[1 2 3 4 5]\n",
      "<class 'numpy.ndarray'>\n"
     ]
    }
   ],
   "source": [
    "#1.Defining one dimensional array \n",
    "import numpy as np\n",
    "a=np.array([1,2,3,4,5])\n",
    "print(a)\n",
    "print(type(a))"
   ]
  },
  {
   "cell_type": "code",
   "execution_count": 7,
   "id": "27607f1d-2ad0-4404-bb67-4dcde42fdfb3",
   "metadata": {},
   "outputs": [
    {
     "name": "stdout",
     "output_type": "stream",
     "text": [
      "['1' '2' '3.5' 'rohit' 'shreya' '74.56' '9']\n",
      "<class 'numpy.ndarray'>\n",
      "int64\n",
      "<U32\n"
     ]
    }
   ],
   "source": [
    "# to enter element of different type in array:\n",
    "import numpy as np\n",
    "b=np.array([1,2,3.5,'rohit','shreya',74.56,9])\n",
    "print(b)\n",
    "print(type(b))\n",
    "print(a.dtype)\n",
    "print(b.dtype)"
   ]
  },
  {
   "cell_type": "markdown",
   "id": "033f8596-3707-4219-90b6-78dfb9532e17",
   "metadata": {},
   "source": [
    "<h1>☘️🍁Reshaping🍁☘️</h1>as long as the elements required for reshaping are equal in both shape.\n",
    "-e.g. we can reshape an 8 elements 1D array into 4 elements in 2 rows 2D array but we can not reshape it into a 3 elements 3 rows 2D array."
   ]
  },
  {
   "cell_type": "code",
   "execution_count": 8,
   "id": "570818d0-9981-4b82-8dde-3918dfb32592",
   "metadata": {},
   "outputs": [
    {
     "name": "stdout",
     "output_type": "stream",
     "text": [
      "[[1 2 3]\n",
      " [4 5 6]\n",
      " [7 8 9]]\n"
     ]
    }
   ],
   "source": [
    "import numpy as np\n",
    "arr=np.array([1,2,3,4,5,6,7,8,9])\n",
    "newarr=arr.reshape(3,3)\n",
    "print(newarr)"
   ]
  },
  {
   "cell_type": "markdown",
   "id": "ffe58c3e-e813-43ed-8b38-97a7f8286593",
   "metadata": {},
   "source": [
    "<h1>🐥RESIZING:🐥</h1>\n",
    "-🍁the resize() function is used to create a new array with the specified shape.\n",
    "-🍁 if the new array is larger than the original array,than the new array is filled with repeated copies of a. "
   ]
  },
  {
   "cell_type": "code",
   "execution_count": 14,
   "id": "e545ceee-aa87-49a3-8ddb-a6c25d2a3782",
   "metadata": {},
   "outputs": [
    {
     "data": {
      "text/plain": [
       "array([[1, 2],\n",
       "       [3, 4],\n",
       "       [1, 2]])"
      ]
     },
     "execution_count": 14,
     "metadata": {},
     "output_type": "execute_result"
    }
   ],
   "source": [
    "import numpy as np\n",
    "a= np.array([[1,2],[3,4]])\n",
    "np.resize (a,(3,2))"
   ]
  },
  {
   "cell_type": "markdown",
   "id": "d05c731d-c121-4c42-b34e-d99f8028b3d7",
   "metadata": {},
   "source": [
    "#difference bw reshape and resise\n",
    "reshape does not change the original array  but only returns the changed array \n",
    "whereas the resize method returns nothing and directly changes the original array."
   ]
  },
  {
   "cell_type": "code",
   "execution_count": 18,
   "id": "a9123af1-a57e-42fd-adc2-c01885a393f4",
   "metadata": {},
   "outputs": [
    {
     "name": "stdout",
     "output_type": "stream",
     "text": [
      "original array\n",
      "[1 2 3 4 5 6]\n",
      "Changed array:\n",
      "[[1 2 3]\n",
      " [4 5 6]]\n",
      "Changed array:\n",
      "None\n",
      "original array\n",
      "[[1 2 3]\n",
      " [4 5 6]]\n"
     ]
    }
   ],
   "source": [
    "import numpy as npy\n",
    "cs=np.array([1,2,3,4,5,6])\n",
    "print(\"original array\")\n",
    "print(cs)\n",
    "print(\"Changed array:\")\n",
    "print(cs.reshape(2,3))\n",
    "print(\"Changed array:\")\n",
    "print(cs.resize(2,3))\n",
    "print(\"original array\")\n",
    "print(cs)\n",
    "\n"
   ]
  },
  {
   "cell_type": "code",
   "execution_count": 24,
   "id": "210ec73f-ce30-4d1e-be05-2e0a4ffbcbab",
   "metadata": {},
   "outputs": [
    {
     "name": "stdout",
     "output_type": "stream",
     "text": [
      "[[1 2 3]\n",
      " [4 5 6]\n",
      " [7 8 9]]\n",
      "<class 'numpy.ndarray'>\n",
      "2\n",
      "8\n",
      "[[1 2]\n",
      " [4 5]]\n",
      "[[9 8 7]\n",
      " [6 5 4]\n",
      " [3 2 1]]\n"
     ]
    }
   ],
   "source": [
    "#creting a 2D array\n",
    "ar=np.array([[1,2,3],[4,5,6],[7,8,9]])\n",
    "print(ar)\n",
    "print(type(ar))\n",
    "print(ar.ndim)\n",
    "print(ar[2][1])\n",
    "print(ar[ :2,:2])\n",
    "print(ar[ : :-1, : :-1])"
   ]
  },
  {
   "cell_type": "markdown",
   "id": "937e06e1-b662-4fdf-b451-299bddf66ebe",
   "metadata": {},
   "source": [
    "Atrributes in numpy:\n",
    "* ndim: provides dimensions in array\n",
    "* size: numbers of elements in array\n",
    "* shape: provide order of matrix\n",
    "* nbytes: no. of bytes occupied by an array\n",
    "* itemsize: bytes occupied by each elements of the matrix\n",
    "* dtype: give types of elements"
   ]
  },
  {
   "cell_type": "code",
   "execution_count": 26,
   "id": "c72b2375-7f9f-4584-9663-dfd6ff9f31ed",
   "metadata": {},
   "outputs": [
    {
     "name": "stdout",
     "output_type": "stream",
     "text": [
      "[1 2 3 4 5 6]\n",
      "[[1 2 3]\n",
      " [4 5 6]\n",
      " [7 8 9]]\n",
      "1\n",
      "2\n",
      "6\n",
      "9\n",
      "(6,)\n",
      "(3, 3)\n"
     ]
    }
   ],
   "source": [
    "import numpy as np\n",
    "a=np.array([1,2,3,4,5,6])\n",
    "b=np.array([[1,2,3],[4,5,6],[7,8,9]])\n",
    "print(a)\n",
    "print(b)\n",
    "print(a.ndim)\n",
    "print(b.ndim)\n",
    "print(a.size)\n",
    "print(b.size)\n",
    "print(a.shape)\n",
    "print(b.shape)\n",
    "\n"
   ]
  },
  {
   "cell_type": "code",
   "execution_count": 34,
   "id": "0779a8be-a65c-4da5-b773-ac599ebd2416",
   "metadata": {},
   "outputs": [
    {
     "name": "stdout",
     "output_type": "stream",
     "text": [
      "[[0 0 0 0]\n",
      " [0 0 0 0]]\n",
      "[[1. 1. 1. 1.]\n",
      " [1. 1. 1. 1.]\n",
      " [1. 1. 1. 1.]]\n",
      "[[10 10 10 10]\n",
      " [10 10 10 10]\n",
      " [10 10 10 10]]\n",
      "[[nan nan nan]\n",
      " [nan nan nan]\n",
      " [nan nan nan]]\n"
     ]
    }
   ],
   "source": [
    "#Usual matrix:\n",
    "import numpy as np\n",
    "a=np.zeros ((2,4),dtype='int16')\n",
    "b=np.ones ((3,4))\n",
    "print(a)\n",
    "print(b)\n",
    "x=np.full((3,4),10)\n",
    "print(x)\n",
    "y=np.full((3,3),np.nan)\n",
    "print(y)\n"
   ]
  },
  {
   "cell_type": "code",
   "execution_count": 36,
   "id": "0bdcbb9f-1d76-4f01-9c1e-ed336f5aa2fc",
   "metadata": {},
   "outputs": [
    {
     "name": "stdout",
     "output_type": "stream",
     "text": [
      "[[0 0 0 0]\n",
      " [0 0 0 0]]\n",
      "[[1. 1. 1. 1.]\n",
      " [1. 1. 1. 1.]\n",
      " [1. 1. 1. 1.]]\n",
      "[[10  0  0  0  0]\n",
      " [ 0 20  0  0  0]\n",
      " [ 0  0 30  0  0]\n",
      " [ 0  0  0 40  0]\n",
      " [ 0  0  0  0 50]]\n",
      "[[1. 0. 0. 0. 0.]\n",
      " [0. 1. 0. 0. 0.]\n",
      " [0. 0. 1. 0. 0.]\n",
      " [0. 0. 0. 1. 0.]\n",
      " [0. 0. 0. 0. 1.]]\n"
     ]
    }
   ],
   "source": [
    "import numpy as np\n",
    "a=np.zeros ((2,4),dtype='int16')\n",
    "b=np.ones ((3,4))\n",
    "print(a)\n",
    "print(b)\n",
    "\n",
    "m=np.diag([10,20,30,40,50])\n",
    "print(m)\n",
    "e=np.eye(5)\n",
    "print(e)\n"
   ]
  },
  {
   "cell_type": "markdown",
   "id": "9fdba9ca-dc15-4931-adba-af720d18aaad",
   "metadata": {},
   "source": [
    "🌺Flatten: it creates 1D array from any nD array. flatten is slow.\n",
    "🌺Ravel:it creates 1D array any nD array. ravel is fast.\n"
   ]
  },
  {
   "cell_type": "code",
   "execution_count": 39,
   "id": "3cc25b09-ff9a-4b43-b4b7-855893eb106e",
   "metadata": {},
   "outputs": [
    {
     "name": "stdout",
     "output_type": "stream",
     "text": [
      "[1 2 3 4 5 6 7 8 9]\n",
      "[1 2 3 4 5 6 7 8 9]\n"
     ]
    }
   ],
   "source": [
    "a=np.array([[1,2,3],[4,5,6],[7,8,9]])\n",
    "b=a.ravel()\n",
    "print(b)\n",
    "c=a.flatten()\n",
    "print(c)"
   ]
  },
  {
   "cell_type": "code",
   "execution_count": 40,
   "id": "35e5590c-8ad9-4479-adb4-a96bb3752795",
   "metadata": {},
   "outputs": [
    {
     "name": "stdout",
     "output_type": "stream",
     "text": [
      "[[0.40388556 0.80001567 0.71341763 0.35831201]\n",
      " [0.28829955 0.2943505  0.54930268 0.34680868]\n",
      " [0.56244062 0.526714   0.87236694 0.94745067]]\n"
     ]
    }
   ],
   "source": [
    "d=np.random.rand(3,4)\n",
    "print(d)"
   ]
  },
  {
   "cell_type": "code",
   "execution_count": 45,
   "id": "584b0230-74e1-4373-b0b3-3490f9df2e26",
   "metadata": {},
   "outputs": [
    {
     "name": "stdout",
     "output_type": "stream",
     "text": [
      "[[ 7  9 -2]\n",
      " [ 4 -2  5]]\n"
     ]
    }
   ],
   "source": [
    "d=np.random.randint(-4,10,size=(2,3))\n",
    "print(d)"
   ]
  },
  {
   "cell_type": "code",
   "execution_count": 46,
   "id": "b1276ae6-3b44-458f-993f-7301604ffec5",
   "metadata": {},
   "outputs": [
    {
     "name": "stdout",
     "output_type": "stream",
     "text": [
      "[10 11 12 13 14 15 16 17 18 19 20 21 22 23 24 25 26 27 28 29]\n"
     ]
    }
   ],
   "source": [
    "d=np.arange(10,30)\n",
    "print(d)"
   ]
  },
  {
   "cell_type": "code",
   "execution_count": 50,
   "id": "c0a208d5-4885-4961-82ac-a1b6087d473a",
   "metadata": {},
   "outputs": [
    {
     "name": "stdout",
     "output_type": "stream",
     "text": [
      "[ 0.84147098  0.90929743  0.14112001 -0.7568025  -0.95892427  0.89399666]\n"
     ]
    }
   ],
   "source": [
    "d=np.array([1,2,3,4,5,90])\n",
    "print(np.sin(d))"
   ]
  },
  {
   "cell_type": "code",
   "execution_count": 67,
   "id": "33761dd7-9c66-4c75-9653-af1f922ae23a",
   "metadata": {},
   "outputs": [
    {
     "name": "stdout",
     "output_type": "stream",
     "text": [
      "[[1 4 7]\n",
      " [2 5 8]\n",
      " [3 6 9]]\n",
      "15\n",
      "[[ 2  7  6]\n",
      " [ 8 10 12]\n",
      " [14 14 18]]\n",
      "[[ 30  33  42]\n",
      " [ 66  81  96]\n",
      " [102 129 150]]\n",
      "[[ 30  33  42]\n",
      " [ 66  81  96]\n",
      " [102 129 150]]\n",
      "[[ 30  33  42]\n",
      " [ 66  81  96]\n",
      " [102 129 150]]\n",
      "0.0\n",
      "6.000000000000025\n",
      "[[ 1.5        -4.5         2.5       ]\n",
      " [ 1.         -2.          1.        ]\n",
      " [-1.83333333  4.83333333 -2.5       ]]\n"
     ]
    }
   ],
   "source": [
    "a=np.array([[1,2,3],[4,5,6],[7,8,9]])\n",
    "b=np.array([[1,5,3],[4,5,6],[7,6,9]])\n",
    "A=a.transpose()\n",
    "print(A)\n",
    "a.transpose()\n",
    "print(np.trace(a))\n",
    "print(a+b)\n",
    "print(a.dot(b))\n",
    "print(a@b)\n",
    "print(np.matmul(a,b))\n",
    "print(np.linalg.det(a))\n",
    "print(np.linalg.det(b))\n",
    "print(np.linalg.inv(b))\n",
    "#print(np.linalg.inv(b))\n"
   ]
  }
 ],
 "metadata": {
  "kernelspec": {
   "display_name": "Python 3 (ipykernel)",
   "language": "python",
   "name": "python3"
  },
  "language_info": {
   "codemirror_mode": {
    "name": "ipython",
    "version": 3
   },
   "file_extension": ".py",
   "mimetype": "text/x-python",
   "name": "python",
   "nbconvert_exporter": "python",
   "pygments_lexer": "ipython3",
   "version": "3.13.4"
  }
 },
 "nbformat": 4,
 "nbformat_minor": 5
}
