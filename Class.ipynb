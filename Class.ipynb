{
 "cells": [
  {
   "cell_type": "code",
   "execution_count": 2,
   "id": "66f03593-b95c-4cd0-962f-4ba0785db4bc",
   "metadata": {},
   "outputs": [
    {
     "name": "stdout",
     "output_type": "stream",
     "text": [
      "Fruit is: apple\n",
      "color is : red\n"
     ]
    }
   ],
   "source": [
    "class food:\n",
    "    def __init__(self,fruit,color):\n",
    "        self.fruit = fruit\n",
    "        self.color = color\n",
    "    def show(self):\n",
    "        print(\"Fruit is:\",self.fruit)\n",
    "        print(\"color is :\",self.color)\n",
    "x=food(\"apple\",\"red\")\n",
    "x.show()  "
   ]
  },
  {
   "cell_type": "markdown",
   "id": "1fed2360-f059-4ac8-b57f-922a6d7ec6cd",
   "metadata": {},
   "source": []
  },
  {
   "cell_type": "code",
   "execution_count": 4,
   "id": "2336796f-feb8-44cf-a7e1-e2de75c8bc0c",
   "metadata": {},
   "outputs": [
    {
     "name": "stdout",
     "output_type": "stream",
     "text": [
      "this is instance\n"
     ]
    }
   ],
   "source": [
    "class xyz:\n",
    "    def instance_method(self):\n",
    "        return(\"this is instance\")\n",
    "obj1=xyz()\n",
    "print(obj1.instance_method())"
   ]
  },
  {
   "cell_type": "code",
   "execution_count": 5,
   "id": "bbfa8e2e-cec5-4fe2-96a8-7259752b7742",
   "metadata": {},
   "outputs": [
    {
     "name": "stdout",
     "output_type": "stream",
     "text": [
      "this is instance method with parameter a= 12.\n"
     ]
    }
   ],
   "source": [
    "class xyz:\n",
    "    def instance_method(self,a):\n",
    "        return(f\"this is instance method with parameter a = {a}.\")\n",
    "obj1=xyz()\n",
    "print(obj1.instance_method(12))"
   ]
  },
  {
   "cell_type": "code",
   "execution_count": 6,
   "id": "d1d80a34-7953-4208-9d1c-4b80072fb45a",
   "metadata": {},
   "outputs": [
    {
     "name": "stdout",
     "output_type": "stream",
     "text": [
      "hello!!\n"
     ]
    }
   ],
   "source": [
    "def hello():\n",
    "    return \"hello!!\"\n",
    "print(hello())"
   ]
  },
  {
   "cell_type": "code",
   "execution_count": 12,
   "id": "85035051-015b-4b29-9c20-8dbb6de9753e",
   "metadata": {},
   "outputs": [
    {
     "name": "stdout",
     "output_type": "stream",
     "text": [
      "hello!!how are you class?how are you class?\n"
     ]
    }
   ],
   "source": [
    "def deco_hello(fun):\n",
    "    def inner():\n",
    "        c=fun()\n",
    "        return c+\"how are you class?\"\n",
    "    return inner\n",
    "\n",
    "@deco_hello\n",
    "def hello():\n",
    "    return \"hello!!\"\n",
    "hello=deco_hello(hello)\n",
    "print(hello())"
   ]
  },
  {
   "cell_type": "code",
   "execution_count": null,
   "id": "6ebc62d5-a501-44c5-83b6-0f1731a3b8f1",
   "metadata": {},
   "outputs": [],
   "source": []
  },
  {
   "cell_type": "code",
   "execution_count": 25,
   "id": "49897715-380e-4796-9aba-100a9f03d87b",
   "metadata": {},
   "outputs": [
    {
     "name": "stdout",
     "output_type": "stream",
     "text": [
      "(12, 144)\n"
     ]
    }
   ],
   "source": [
    "def deco_add(fun):\n",
    "    def sqr(a,b):\n",
    "        c=fun(a,b)\n",
    "        return c,c**2\n",
    "    return sqr\n",
    "       \n",
    "@deco_add\n",
    "def add(a,b):\n",
    "    return a+b\n",
    "\n",
    "print(add(5,7))"
   ]
  },
  {
   "cell_type": "code",
   "execution_count": null,
   "id": "ecca8dcb-f717-4e22-9874-507a60557c7d",
   "metadata": {},
   "outputs": [],
   "source": []
  },
  {
   "cell_type": "code",
   "execution_count": 29,
   "id": "e4d9cc5e-429c-42f1-b91c-6587a0c098a4",
   "metadata": {},
   "outputs": [
    {
     "name": "stdout",
     "output_type": "stream",
     "text": [
      "the area of rectangle having lenght 4 and breadth 5: 20\n"
     ]
    }
   ],
   "source": [
    "class rectangle:\n",
    "    def __init__(self,l,b):\n",
    "        self.l=l\n",
    "        self.b=b\n",
    "    def area(self):\n",
    "        a=self.l*self.b\n",
    "        print(f\"the area of rectangle having length {self.l} and breadth {self.b}:\",a)\n",
    "x=rectangle(4,5)\n",
    "x.area()\n"
   ]
  },
  {
   "cell_type": "code",
   "execution_count": 6,
   "id": "cd126a3b-1a8d-4203-a848-e48f19911d38",
   "metadata": {},
   "outputs": [
    {
     "name": "stdout",
     "output_type": "stream",
     "text": [
      "nisha 30\n"
     ]
    }
   ],
   "source": [
    "from datetime import date\n",
    "class Student:\n",
    "    def __init__(self,name,age):\n",
    "        self.name=name\n",
    "        self.age=age\n",
    "    @classmethod\n",
    "    def calculate_age(cls,name,birth_year):\n",
    "        return cls(name,date.today().year-birth_year)\n",
    "    def display(self):\n",
    "         print(self.name,self.age)\n",
    "s1=Student.calculate_age(\"nisha\",1995)\n",
    "s1.display()\n",
    "\n"
   ]
  },
  {
   "cell_type": "code",
   "execution_count": null,
   "id": "0a3219fa-f791-4631-9d73-579ec06b5b3b",
   "metadata": {},
   "outputs": [],
   "source": [
    "class NIET:\n",
    "    branch_name='computer science'\n",
    "    def __init__(self,name,age):\n",
    "        self.name=name\n",
    "        self.age=age\n",
    "\n",
    "        @classmethod\n",
    "        def change_branch(cls,branch_name):\n",
    "            NIET.branch_name=branch_name\n",
    "        def display(self):\n",
    "            print("
   ]
  },
  {
   "cell_type": "code",
   "execution_count": 34,
   "id": "9dd66900-a38e-41d7-9cf7-868f86cc0245",
   "metadata": {},
   "outputs": [
    {
     "name": "stdout",
     "output_type": "stream",
     "text": [
      "the area of the given len 5 and breadth 4 is: 20\n"
     ]
    }
   ],
   "source": [
    "class rectangle:\n",
    "    def __init__(self,l,b):\n",
    "        self.l=l\n",
    "        self.b=b\n",
    "    def area(self):\n",
    "        area=self.l*self.b\n",
    "        return area\n",
    "a=5\n",
    "b=4\n",
    "o1=rectangle(a,b)\n",
    "print(f\"the area of the given len {a} and breadth {b} is:\",o1.area())\n",
    "        \n",
    "        "
   ]
  },
  {
   "cell_type": "code",
   "execution_count": 41,
   "id": "108cb47f-56b6-4265-8e82-c1e7f04453ec",
   "metadata": {},
   "outputs": [
    {
     "name": "stdout",
     "output_type": "stream",
     "text": [
      "avg marks of nisha is  30.0\n"
     ]
    }
   ],
   "source": [
    "class student:\n",
    "    def __init__(self,name,maths,eng,hindi):\n",
    "        self.name=name\n",
    "        self.maths=maths\n",
    "        self.eng=eng\n",
    "        self.hindi=hindi\n",
    "    def avg(self):\n",
    "        avg=(self.maths+self.eng+self.hindi)/3\n",
    "        print(f\"avg marks of {self.name} is \",avg)\n",
    "\n",
    "ob1=student(\"nisha\",30,20,40)\n",
    "ob1.avg()\n"
   ]
  },
  {
   "cell_type": "code",
   "execution_count": 45,
   "id": "0d0d8b0f-eaf5-401f-82bc-da9909137357",
   "metadata": {},
   "outputs": [
    {
     "name": "stdout",
     "output_type": "stream",
     "text": [
      "nisha\n"
     ]
    }
   ],
   "source": [
    "class xyz:\n",
    "    @staticmethod\n",
    "    def hello():\n",
    "        print(\"nisha\")\n",
    "obj1=xyz()\n",
    "obj1.hello()\n",
    "        "
   ]
  }
 ],
 "metadata": {
  "kernelspec": {
   "display_name": "Python 3 (ipykernel)",
   "language": "python",
   "name": "python3"
  },
  "language_info": {
   "codemirror_mode": {
    "name": "ipython",
    "version": 3
   },
   "file_extension": ".py",
   "mimetype": "text/x-python",
   "name": "python",
   "nbconvert_exporter": "python",
   "pygments_lexer": "ipython3",
   "version": "3.13.4"
  }
 },
 "nbformat": 4,
 "nbformat_minor": 5
}
