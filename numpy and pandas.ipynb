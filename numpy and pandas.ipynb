{
 "cells": [
  {
   "cell_type": "code",
   "execution_count": 4,
   "id": "dcbfbcff-2b5e-4957-9a91-3c06ad5c7847",
   "metadata": {},
   "outputs": [
    {
     "name": "stdout",
     "output_type": "stream",
     "text": [
      "[10 11 12 13 14 15 16 17 18 19 20 21 22 23 24 25 26 27 28 29 30 31 32 33\n",
      " 34 35 36 37 38 39]\n",
      "     0\n",
      "0   10\n",
      "1   11\n",
      "2   12\n",
      "3   13\n",
      "4   14\n",
      "5   15\n",
      "6   16\n",
      "7   17\n",
      "8   18\n",
      "9   19\n",
      "10  20\n",
      "11  21\n",
      "12  22\n",
      "13  23\n",
      "14  24\n",
      "15  25\n",
      "16  26\n",
      "17  27\n",
      "18  28\n",
      "19  29\n",
      "20  30\n",
      "21  31\n",
      "22  32\n",
      "23  33\n",
      "24  34\n",
      "25  35\n",
      "26  36\n",
      "27  37\n",
      "28  38\n",
      "29  39\n"
     ]
    }
   ],
   "source": [
    "import numpy as np\n",
    "import pandas as pd\n",
    "x=np.arange(10,40)\n",
    "print(x)\n",
    "y1=pd.DataFrame(x)\n",
    "print(y1)"
   ]
  },
  {
   "cell_type": "code",
   "execution_count": 23,
   "id": "c437f705-3889-4985-b789-eaae31ac2048",
   "metadata": {},
   "outputs": [
    {
     "name": "stdout",
     "output_type": "stream",
     "text": [
      "    Names Roll no  Marks\n",
      "1  shreya     124     23\n",
      "2   nisha     245     45\n",
      "3     dev     252     67\n",
      "4   mansi     167     88\n",
      "    Names Roll no  Marks  Address\n",
      "1  shreya     124     23    Noida\n",
      "2   nisha     245     45    Delhi\n",
      "3     dev     252     67  Newyork\n",
      "4   mansi     167     88      usa\n"
     ]
    }
   ],
   "source": [
    "s1=pd.Series(['shreya','nisha','dev','mansi'],index=[1,2,3,4])\n",
    "s2=pd.Series(['124','245','252','167'],index=[1,2,3,4])\n",
    "s3=pd.Series([23,45,67,88],index=[1,2,3,4])\n",
    "x={'Names':s1,'Roll no':s2,'Marks':s3}\n",
    "y=pd.DataFrame(x)\n",
    "print(y)\n",
    "y['Address']=['Noida','Delhi','Newyork','usa']\n",
    "print(y)\n",
    "\n"
   ]
  },
  {
   "cell_type": "code",
   "execution_count": 38,
   "id": "6542b838-6398-493d-a71d-fedbfaa1ece6",
   "metadata": {},
   "outputs": [],
   "source": [
    "y.to_csv(r\"C:\\Users\\akgau\\Downloads\\nishuu.csv\")"
   ]
  },
  {
   "cell_type": "code",
   "execution_count": 39,
   "id": "3a55741e-909b-4b16-a5f2-cc1b893dbc45",
   "metadata": {},
   "outputs": [],
   "source": [
    "y.to_csv(r\"C:\\Users\\akgau\\Downloads\\nishuu.xlsx\")"
   ]
  },
  {
   "cell_type": "markdown",
   "id": "f2641fe3-2272-482a-8721-0a7cb8759b75",
   "metadata": {},
   "source": [
    "<font color='violet'><h2>Pandas:</h2></font>\n",
    "Panel Data and Analysis\n",
    "\n",
    "* Pandas is a python library used for working with data sets.\n",
    "* It has functioning for analyzing, cleaning, exploring and manipulating data.\n",
    "* It was created in 2008 by Wes Mckinney.\n",
    "\n",
    "> <font color='yellow'><h4>What kind of data is best suited for PANDAS?</h4></font>\n",
    "- Rows & columns\n",
    "- Excel, .xlsxs, .csv[comma separated values],.workbook\n",
    "\n",
    "<font color='red'><h3>Data Frames:</h3></font> Rows and Columns [2-D array]\n",
    "<font color='red'><h3>Data Series:</h3></font> [1-D array]"
   ]
  },
  {
   "cell_type": "markdown",
   "id": "20e38b92-814e-42a3-b619-d638edb4cb77",
   "metadata": {},
   "source": [
    "<font color='green'><h2>Labels:</h2></font> It is the index.If nothing is passed then column elements will have normal indexing which starts from 0. It can be used to access any element of the series"
   ]
  },
  {
   "cell_type": "code",
   "execution_count": 2,
   "id": "7db03692-919a-4b5d-bfdc-6ed50e4ae073",
   "metadata": {},
   "outputs": [
    {
     "name": "stdout",
     "output_type": "stream",
     "text": [
      "0            10\n",
      "1            20\n",
      "2            30\n",
      "3          Late\n",
      "4    Punishment\n",
      "dtype: object\n"
     ]
    }
   ],
   "source": [
    "import pandas as pd\n",
    "#Create a simple pandas series from a list data structure(Ds).\n",
    "a=[10,20,30,'Late','Punishment']\n",
    "my_col=pd.Series(a)\n",
    "print(my_col) #This wil print data series"
   ]
  },
  {
   "cell_type": "code",
   "execution_count": 3,
   "id": "d56853bd-13a5-49df-886a-72c17640a8df",
   "metadata": {},
   "outputs": [
    {
     "name": "stdout",
     "output_type": "stream",
     "text": [
      "0            10\n",
      "1            20\n",
      "2            30\n",
      "3          Late\n",
      "4    Punishment\n",
      "dtype: object\n",
      "30\n"
     ]
    }
   ],
   "source": [
    "import pandas as pd\n",
    "#Create a simple pandas series from a list data structure(Ds).\n",
    "a=[10,20,30,'Late','Punishment']\n",
    "my_col=pd.Series(a)\n",
    "print(my_col) \n",
    "print(my_col[2])"
   ]
  },
  {
   "cell_type": "code",
   "execution_count": 4,
   "id": "f99d9cea-f3ef-4ce8-938c-6572aaf2f107",
   "metadata": {},
   "outputs": [
    {
     "name": "stdout",
     "output_type": "stream",
     "text": [
      "x    15\n",
      "y    20\n",
      "z    35\n",
      "dtype: int64\n"
     ]
    }
   ],
   "source": [
    "import pandas as pd\n",
    "b=[15,20,35]\n",
    "s=pd.Series(b, index=['x','y','z'])\n",
    "print(s)"
   ]
  },
  {
   "cell_type": "code",
   "execution_count": 5,
   "id": "c414e34f-7c72-4aad-a9e4-376ca05fe70d",
   "metadata": {},
   "outputs": [
    {
     "name": "stdout",
     "output_type": "stream",
     "text": [
      "0    1\n",
      "1    2\n",
      "2    3\n",
      "3    4\n",
      "4    5\n",
      "5    6\n",
      "dtype: int64\n"
     ]
    }
   ],
   "source": [
    "#Creating series through an array\n",
    "import pandas as pd\n",
    "import numpy as np\n",
    "arr=np.array([1,2,3,4,5,6])\n",
    "a=pd.Series(arr)\n",
    "print(a)"
   ]
  },
  {
   "cell_type": "code",
   "execution_count": 6,
   "id": "08cf65f0-8536-45bd-a94d-bcda8e023d4a",
   "metadata": {},
   "outputs": [
    {
     "name": "stdout",
     "output_type": "stream",
     "text": [
      "a    10\n",
      "b    20\n",
      "c    30\n",
      "dtype: int64\n"
     ]
    }
   ],
   "source": [
    "#Creating a series through a dictionary\n",
    "import pandas as pd\n",
    "dict={'a':10,'b':20,'c':30}\n",
    "ds1=pd.Series(dict)\n",
    "print(ds1)"
   ]
  },
  {
   "cell_type": "code",
   "execution_count": 7,
   "id": "4da89b60-6cf3-4df9-b173-2be125928b81",
   "metadata": {},
   "outputs": [
    {
     "name": "stdout",
     "output_type": "stream",
     "text": [
      "x   NaN\n",
      "y   NaN\n",
      "z   NaN\n",
      "dtype: float64\n"
     ]
    }
   ],
   "source": [
    "import pandas as pd\n",
    "dict={'a':10,'b':20,'c':30}\n",
    "ds1=pd.Series(dict, index=['x','y','z'])\n",
    "print(ds1) #NaN because a,b,c already  have fixed value"
   ]
  },
  {
   "cell_type": "code",
   "execution_count": 8,
   "id": "b0fc4f3f-d0c6-4697-8c08-a7514a0a417e",
   "metadata": {},
   "outputs": [
    {
     "name": "stdout",
     "output_type": "stream",
     "text": [
      "1    20\n",
      "2    20\n",
      "3    20\n",
      "4    20\n",
      "5    20\n",
      "dtype: int64\n",
      "[[0. 0. 0. 0.]\n",
      " [0. 0. 0. 0.]]\n",
      "[[1. 1. 1. 1. 1.]\n",
      " [1. 1. 1. 1. 1.]\n",
      " [1. 1. 1. 1. 1.]]\n"
     ]
    }
   ],
   "source": [
    "#Creating a Series of a particular scalar value with your own index\n",
    "import pandas as pd\n",
    "import numpy as np\n",
    "x=pd.Series(20,index=[1,2,3,4,5])\n",
    "y=np.zeros((2,4))\n",
    "z=np.ones((3,5))\n",
    "print(x)\n",
    "print(y)\n",
    "print(z)"
   ]
  },
  {
   "cell_type": "markdown",
   "id": "df90359f-5e63-4c0d-97f9-1804b527a59d",
   "metadata": {},
   "source": [
    "<font color='blue'><h1>Data Frames:</h1></font> Data-sets in Pandas are usually multi-dimensionals tables, known as \"DataFrames.\"\n",
    "* Data Frame is a whole table, whereas Series is like a column.\n",
    "* Data Frame is heterogeneous i.e, collection of different type of value."
   ]
  },
  {
   "cell_type": "code",
   "execution_count": 13,
   "id": "ee69ef6d-9bc3-4248-b686-481c949be736",
   "metadata": {},
   "outputs": [
    {
     "name": "stdout",
     "output_type": "stream",
     "text": [
      "   Names  Roll No  Marks\n",
      "0  Muthu      101      4\n",
      "1  Swami      102      7\n",
      "2  Ayyer      103      6\n"
     ]
    }
   ],
   "source": [
    "#1.Creating a DataFrame from 3-list.\n",
    "import pandas as pd\n",
    "data={\"Names\":[\"Muthu\",\"Swami\",\"Ayyer\"],\"Roll No\":[101,102,103],\"Marks\":[4,7,6]}\n",
    "df=pd.DataFrame(data)\n",
    "print(df)"
   ]
  },
  {
   "cell_type": "code",
   "execution_count": 14,
   "id": "cd759c0e-f550-49d4-bd0f-f82d3d537ab1",
   "metadata": {},
   "outputs": [
    {
     "name": "stdout",
     "output_type": "stream",
     "text": [
      "   Names  Roll No  Marks\n",
      "a  Muthu      101      4\n",
      "b  Swami      102      7\n",
      "c  Ayyer      103      6\n"
     ]
    }
   ],
   "source": [
    "import pandas as pd\n",
    "data={\"Names\":[\"Muthu\",\"Swami\",\"Ayyer\"],\"Roll No\":[101,102,103],\"Marks\":[4,7,6]}\n",
    "print(pd.DataFrame(data, index=['a','b','c']))"
   ]
  },
  {
   "cell_type": "code",
   "execution_count": 15,
   "id": "8ec69c84-5417-4cea-9ccd-8bf3d447ed23",
   "metadata": {},
   "outputs": [
    {
     "name": "stdout",
     "output_type": "stream",
     "text": [
      "Muthu\n"
     ]
    }
   ],
   "source": [
    "#To check the location of data\n",
    "import pandas as pd\n",
    "data={\"Names\":[\"Muthu\",\"Swami\",\"Ayyer\"],\"Roll No\":[101,102,103],\"Marks\":[4,7,6]}\n",
    "df=pd.DataFrame(data, index=['a','b','c'])\n",
    "print(df.loc['a','Names']) #Accesing values of keys by indexing"
   ]
  },
  {
   "cell_type": "code",
   "execution_count": 16,
   "id": "fe0da05c-d7db-4688-8249-5dd4da941d7c",
   "metadata": {},
   "outputs": [
    {
     "name": "stdout",
     "output_type": "stream",
     "text": [
      "          ID1  ID2  ID3\n",
      "Names     abc  xyz  mno\n",
      "Roll No.  101  102  103\n",
      "Marks      50   80   85\n"
     ]
    }
   ],
   "source": [
    "#Creating DataFrames using numpy\n",
    "npar=np.array([['abc','xyz','mno'],[101,102,103],[50,80,85]])\n",
    "df1=pd.DataFrame(npar,columns=['ID1','ID2','ID3'], index=['Names','Roll No.','Marks'])\n",
    "print(df1)"
   ]
  },
  {
   "cell_type": "code",
   "execution_count": 17,
   "id": "156cc528-a8ec-4b45-916a-5d9bb8de2fbb",
   "metadata": {},
   "outputs": [
    {
     "name": "stdout",
     "output_type": "stream",
     "text": [
      "    Names Roll NO.  Marks\n",
      "1  Shreya      124     23\n",
      "2     Dev      245     45\n",
      "3   nisha      252     67\n",
      "4   Mansi      167     88\n"
     ]
    }
   ],
   "source": [
    "s1=pd.Series(['Shreya','Dev','nisha','Mansi'],index=[1,2,3,4])\n",
    "s2=pd.Series(['124','245','252','167'],index=[1,2,3,4])\n",
    "s3=pd.Series([23,45,67,88],index=[1,2,3,4])\n",
    "x={'Names':s1,'Roll NO.':s2,'Marks':s3}\n",
    "y=pd.DataFrame(x)\n",
    "print(y)"
   ]
  },
  {
   "cell_type": "code",
   "execution_count": 18,
   "id": "6fd85f07-2582-4a9b-8fce-66290203b303",
   "metadata": {},
   "outputs": [
    {
     "name": "stdout",
     "output_type": "stream",
     "text": [
      "    Names Roll NO.  Marks  Address\n",
      "1  Shreya      124     23    Noida\n",
      "2     Dev      245     45    Delhi\n",
      "3   nisha      252     67  NewYork\n",
      "4   Mansi      167     88      usa\n",
      "    Names Roll NO.  Marks  Address  pra_status\n",
      "1  Shreya      124     23    Noida       False\n",
      "2     Dev      245     45    Delhi       False\n",
      "3   nisha      252     67  NewYork       False\n",
      "4   Mansi      167     88      usa        True\n"
     ]
    }
   ],
   "source": [
    "#Inserting a new column in existing DF.\n",
    "x={'Names':s1,'Roll NO.':s2,'Marks':s3}\n",
    "y=pd.DataFrame(x)\n",
    "y['Address']=['Noida','Delhi','NewYork','usa']\n",
    "print(y)\n",
    "\n",
    "y['pra_status']=y['Marks']>80\n",
    "print(y)"
   ]
  },
  {
   "cell_type": "code",
   "execution_count": 19,
   "id": "c4f5ea64-4199-4963-86ca-8036725ee1d1",
   "metadata": {},
   "outputs": [
    {
     "name": "stdout",
     "output_type": "stream",
     "text": [
      "    Names Section Roll NO.  Marks  Address  pra_status\n",
      "1  Shreya       A      124     23    Noida       False\n",
      "2     Dev       B      245     45    Delhi       False\n",
      "3   nisha       c      252     67  NewYork       False\n",
      "4   Mansi       D      167     88      usa        True\n"
     ]
    }
   ],
   "source": [
    "#Inserting a new column at a desired location in data frame.\n",
    "y.insert(1,'Section',['A','B','c','D'])\n",
    "#insert(location,col_name,values)\n",
    "print(y)"
   ]
  },
  {
   "cell_type": "code",
   "execution_count": 20,
   "id": "cdb49892-ca7c-436b-ad39-f1b0c5ccfc0b",
   "metadata": {},
   "outputs": [
    {
     "name": "stdout",
     "output_type": "stream",
     "text": [
      "    Names Section Roll NO.  Marks  Address\n",
      "1  Shreya       A      124     23    Noida\n",
      "2     Dev       B      245     45    Delhi\n",
      "3   nisha       c      252     67  NewYork\n",
      "4   Mansi       D      167     88      usa\n"
     ]
    }
   ],
   "source": [
    "#Deleting any column from DF\n",
    "del y['pra_status']\n",
    "print(y)"
   ]
  },
  {
   "cell_type": "code",
   "execution_count": 21,
   "id": "907225ae-a75b-405a-8bec-79c390800cb4",
   "metadata": {},
   "outputs": [
    {
     "name": "stdout",
     "output_type": "stream",
     "text": [
      "1    A\n",
      "2    B\n",
      "3    c\n",
      "4    D\n",
      "Name: Section, dtype: object\n"
     ]
    }
   ],
   "source": [
    "a=y.pop('Section')\n",
    "print(a)"
   ]
  },
  {
   "cell_type": "code",
   "execution_count": 22,
   "id": "c26ac19c-697e-4a21-985e-ec34131f74e3",
   "metadata": {},
   "outputs": [
    {
     "name": "stdout",
     "output_type": "stream",
     "text": [
      "[10 11 12 13 14 15 16 17 18 19 20 21 22 23 24 25 26 27 28 29 30 31 32 33\n",
      " 34 35 36 37 38 39]\n",
      "     0\n",
      "0   10\n",
      "1   11\n",
      "2   12\n",
      "3   13\n",
      "4   14\n",
      "5   15\n",
      "6   16\n",
      "7   17\n",
      "8   18\n",
      "9   19\n",
      "10  20\n",
      "11  21\n",
      "12  22\n",
      "13  23\n",
      "14  24\n",
      "15  25\n",
      "16  26\n",
      "17  27\n",
      "18  28\n",
      "19  29\n",
      "20  30\n",
      "21  31\n",
      "22  32\n",
      "23  33\n",
      "24  34\n",
      "25  35\n",
      "26  36\n",
      "27  37\n",
      "28  38\n",
      "29  39\n"
     ]
    }
   ],
   "source": [
    "#Make a dataframe by using arange()\n",
    "x=np.arange(10,40)\n",
    "print(x)\n",
    "y1=pd.DataFrame(x)\n",
    "print(y1)"
   ]
  },
  {
   "cell_type": "code",
   "execution_count": null,
   "id": "4bed6597-4bde-4b91-8394-d4f26c6e32f9",
   "metadata": {},
   "outputs": [],
   "source": [
    "df.to_excel(r)"
   ]
  },
  {
   "cell_type": "code",
   "execution_count": 26,
   "id": "2650e3e0-b64b-4880-a986-f2acbcbc9200",
   "metadata": {},
   "outputs": [
    {
     "name": "stdout",
     "output_type": "stream",
     "text": [
      "   c   Names  Roll no  Marks  Address\n",
      "0  1  shreya      124     23    Noida\n",
      "1  2   nisha      245     45    Delhi\n",
      "2  3     dev      252     67  Newyork\n",
      "3  4   mansi      167     88      usa\n"
     ]
    }
   ],
   "source": [
    "#reading a csv file\n",
    "x=pd.read_excel(r\"C:\\Users\\akgau\\OneDrive\\Documents\\raghav.xlsx\")\n",
    "print(x)"
   ]
  },
  {
   "cell_type": "code",
   "execution_count": 33,
   "id": "f56ba51c-845b-40a9-92b7-09bd723277fe",
   "metadata": {},
   "outputs": [
    {
     "name": "stdout",
     "output_type": "stream",
     "text": [
      "      Series_reference   Period  Data_value Suppressed STATUS    UNITS  \\\n",
      "0          MFGQ.SFA1CA  1992.12    2493.370        NaN      F  Dollars   \n",
      "1          MFGQ.SFA1CA  1993.03    3209.200        NaN      F  Dollars   \n",
      "2          MFGQ.SFA1CA  1993.06    2780.170        NaN      F  Dollars   \n",
      "3          MFGQ.SFA1CA  1993.09    1933.010        NaN      F  Dollars   \n",
      "4          MFGQ.SFA1CA  1993.12    2692.920        NaN      F  Dollars   \n",
      "...                ...      ...         ...        ...    ...      ...   \n",
      "30055      MFGQ.SFZ5KA  2024.03   10399.776        NaN      R  Dollars   \n",
      "30056      MFGQ.SFZ5KA  2024.06    8981.859        NaN      R  Dollars   \n",
      "30057      MFGQ.SFZ5KA  2024.09    9426.188        NaN      R  Dollars   \n",
      "30058      MFGQ.SFZ5KA  2024.12   10595.690        NaN      R  Dollars   \n",
      "30059      MFGQ.SFZ5KA  2025.03   10826.352        NaN      F  Dollars   \n",
      "\n",
      "       Magnitude                                Subject  \\\n",
      "0              6  Manufacturing Survey (ANZSIC06) - MFG   \n",
      "1              6  Manufacturing Survey (ANZSIC06) - MFG   \n",
      "2              6  Manufacturing Survey (ANZSIC06) - MFG   \n",
      "3              6  Manufacturing Survey (ANZSIC06) - MFG   \n",
      "4              6  Manufacturing Survey (ANZSIC06) - MFG   \n",
      "...          ...                                    ...   \n",
      "30055          6  Manufacturing Survey (ANZSIC06) - MFG   \n",
      "30056          6  Manufacturing Survey (ANZSIC06) - MFG   \n",
      "30057          6  Manufacturing Survey (ANZSIC06) - MFG   \n",
      "30058          6  Manufacturing Survey (ANZSIC06) - MFG   \n",
      "30059          6  Manufacturing Survey (ANZSIC06) - MFG   \n",
      "\n",
      "                                                   Group  \\\n",
      "0      Industry by variable - Subannual Financial Col...   \n",
      "1      Industry by variable - Subannual Financial Col...   \n",
      "2      Industry by variable - Subannual Financial Col...   \n",
      "3      Industry by variable - Subannual Financial Col...   \n",
      "4      Industry by variable - Subannual Financial Col...   \n",
      "...                                                  ...   \n",
      "30055  Industry by variable - Subannual Financial Col...   \n",
      "30056  Industry by variable - Subannual Financial Col...   \n",
      "30057  Industry by variable - Subannual Financial Col...   \n",
      "30058  Industry by variable - Subannual Financial Col...   \n",
      "30059  Industry by variable - Subannual Financial Col...   \n",
      "\n",
      "                             Series_title_1  \\\n",
      "0      Meat and dairy product manufacturing   \n",
      "1      Meat and dairy product manufacturing   \n",
      "2      Meat and dairy product manufacturing   \n",
      "3      Meat and dairy product manufacturing   \n",
      "4      Meat and dairy product manufacturing   \n",
      "...                                     ...   \n",
      "30055                     All manufacturing   \n",
      "30056                     All manufacturing   \n",
      "30057                     All manufacturing   \n",
      "30058                     All manufacturing   \n",
      "30059                     All manufacturing   \n",
      "\n",
      "                                          Series_title_2  \\\n",
      "0                               Sales (operating income)   \n",
      "1                               Sales (operating income)   \n",
      "2                               Sales (operating income)   \n",
      "3                               Sales (operating income)   \n",
      "4                               Sales (operating income)   \n",
      "...                                                  ...   \n",
      "30055  Stocks of finished goods, trading goods and wo...   \n",
      "30056  Stocks of finished goods, trading goods and wo...   \n",
      "30057  Stocks of finished goods, trading goods and wo...   \n",
      "30058  Stocks of finished goods, trading goods and wo...   \n",
      "30059  Stocks of finished goods, trading goods and wo...   \n",
      "\n",
      "                                   Series_title_3 Series_title_4  \\\n",
      "0                                  Current prices     Unadjusted   \n",
      "1                                  Current prices     Unadjusted   \n",
      "2                                  Current prices     Unadjusted   \n",
      "3                                  Current prices     Unadjusted   \n",
      "4                                  Current prices     Unadjusted   \n",
      "...                                           ...            ...   \n",
      "30055  Deflated, at September 2010 quarter prices     Unadjusted   \n",
      "30056  Deflated, at September 2010 quarter prices     Unadjusted   \n",
      "30057  Deflated, at September 2010 quarter prices     Unadjusted   \n",
      "30058  Deflated, at September 2010 quarter prices     Unadjusted   \n",
      "30059  Deflated, at September 2010 quarter prices     Unadjusted   \n",
      "\n",
      "      Series_title_5  \n",
      "0                NaN  \n",
      "1                NaN  \n",
      "2                NaN  \n",
      "3                NaN  \n",
      "4                NaN  \n",
      "...              ...  \n",
      "30055            NaN  \n",
      "30056            NaN  \n",
      "30057            NaN  \n",
      "30058            NaN  \n",
      "30059            NaN  \n",
      "\n",
      "[30060 rows x 14 columns]\n"
     ]
    }
   ],
   "source": [
    "import pandas as pd\n",
    "x=pd.read_csv(r\"C:\\Users\\akgau\\Downloads\\employees.csv\")\n",
    "print(x)"
   ]
  },
  {
   "cell_type": "code",
   "execution_count": 34,
   "id": "f65a51c8-f860-4609-8116-8ffb78b4bf0f",
   "metadata": {},
   "outputs": [
    {
     "name": "stdout",
     "output_type": "stream",
     "text": [
      "30060\n"
     ]
    }
   ],
   "source": [
    "print(x.Magnitude.count())"
   ]
  },
  {
   "cell_type": "code",
   "execution_count": 35,
   "id": "bd198089-d312-473c-a9c9-e297df086152",
   "metadata": {},
   "outputs": [
    {
     "name": "stdout",
     "output_type": "stream",
     "text": [
      "0         2493.370\n",
      "1         3209.200\n",
      "2         2780.170\n",
      "3         1933.010\n",
      "4         2692.920\n",
      "           ...    \n",
      "30055    10399.776\n",
      "30056     8981.859\n",
      "30057     9426.188\n",
      "30058    10595.690\n",
      "30059    10826.352\n",
      "Name: Data_value, Length: 30060, dtype: float64\n"
     ]
    }
   ],
   "source": [
    "print(x.Data_value)"
   ]
  },
  {
   "cell_type": "code",
   "execution_count": 36,
   "id": "aa0570d5-2690-4acd-bbc5-4788d533997a",
   "metadata": {},
   "outputs": [
    {
     "name": "stdout",
     "output_type": "stream",
     "text": [
      "35749.295\n"
     ]
    }
   ],
   "source": [
    "print(x.Data_value.max())"
   ]
  },
  {
   "cell_type": "code",
   "execution_count": 37,
   "id": "c9b6d80b-bdda-4435-83fa-1e0eaf310322",
   "metadata": {},
   "outputs": [
    {
     "name": "stdout",
     "output_type": "stream",
     "text": [
      "-26.0\n"
     ]
    }
   ],
   "source": [
    "print(x.Data_value.min())"
   ]
  },
  {
   "cell_type": "code",
   "execution_count": 45,
   "id": "e80e34ba-9c45-4940-9ac8-f494cad71a87",
   "metadata": {},
   "outputs": [
    {
     "name": "stdout",
     "output_type": "stream",
     "text": [
      "    ID       Start time  Completion time                  Email  \\\n",
      "0    1  6/18/2025 14:25  6/18/2025 14:26  0241cys090@niet.co.in   \n",
      "1    2  6/18/2025 14:24  6/18/2025 14:27  0241cse367@niet.co.in   \n",
      "2    3  6/18/2025 14:24  6/18/2025 14:28  0241cse304@niet.co.in   \n",
      "3    4  6/18/2025 14:24  6/18/2025 14:28  0241cse142@niet.co.in   \n",
      "4    5  6/18/2025 14:25  6/18/2025 14:28  0241cse268@niet.co.in   \n",
      "..  ..              ...              ...                    ...   \n",
      "87  88  6/18/2025 14:26  6/18/2025 14:33  0241cse263@niet.co.in   \n",
      "88  89  6/18/2025 14:31  6/18/2025 14:34  0241cse104@niet.co.in   \n",
      "89  90  6/18/2025 14:26  6/18/2025 14:34  0241cse024@niet.co.in   \n",
      "90  91  6/18/2025 14:32  6/18/2025 14:34  0241cse009@niet.co.in   \n",
      "91  92  6/18/2025 14:26  6/18/2025 14:34  0241cse074@niet.co.in   \n",
      "\n",
      "                    Name  Last modified time       NAME OF STUDENT  \\\n",
      "0   awanish kumar maurya                 NaN  AWANISH KUMAR MAURYA   \n",
      "1          Harshit Saini                 NaN         Harshit Saini   \n",
      "2         DIVYANSH GUPTA                 NaN       Divyansh Gupta    \n",
      "3            Rudra Verma                 NaN          Rudra Verma    \n",
      "4     Shivaji Bhai Patel                 NaN   Shivaji Bhai Patel    \n",
      "..                   ...                 ...                   ...   \n",
      "87         Sandesh Kumar                 NaN        Sandesh Kumar    \n",
      "88           ANKIT KUMAR                 NaN           ANKIT KUMAR   \n",
      "89    SANTOSH KUMAR SAHU                 NaN    Santosh Kumar Sahu   \n",
      "90       DHANANJAY SINGH                 NaN      Dhananjay Singh    \n",
      "91         Avneesh Kumar                 NaN        Avneesh Kumar    \n",
      "\n",
      "     ROLL NUMBER           ERP ID       OFFICIAL MAIL-ID          BRANCH  \\\n",
      "0   2.401330e+12  CYBER SECURITY   0241cys090@niet.co.in  Cybersecurity    \n",
      "1   2.401330e+12       0241cse367  0241cse367@niet.co.in             CSE   \n",
      "2   2.401330e+12       0241cse304  0241cse304@niet.co.in             CSE   \n",
      "3   2.401330e+12       0241cse142   0241cse142@gmail.com             CSE   \n",
      "4   2.401330e+12       0241cse268  0241cse268@niet.co.in             CSE   \n",
      "..           ...              ...                    ...             ...   \n",
      "87  2.401330e+12       0241cse263  0241cse263@niet.co.in             CSE   \n",
      "88  2.401330e+12       0241cse104  0241cse104@niet.co.in             CSE   \n",
      "89  2.401330e+12       0241CSE024  0241cse024@niet.co.in             CSE   \n",
      "90  2.401330e+12       0241cse009  0241cse009@niet.co.in             CSE   \n",
      "91  2.401330e+12       0241cse074  0241cse074@niet.co.in             CSE   \n",
      "\n",
      "   SECTION MARKS IN ENGLISH MARKS IN MATHS-1 MARKS IN BEEE/PHYSICS  \\\n",
      "0        A              100               90                    80   \n",
      "1        G               95               94                    96   \n",
      "2        F               97               93                    73   \n",
      "3        E               90               80                    85   \n",
      "4        B               98               70                    70   \n",
      "..     ...              ...              ...                   ...   \n",
      "87       D               80               85                    63   \n",
      "88       G               95               85                    82   \n",
      "89       A               98               81                    76   \n",
      "90       C               81               80                    75   \n",
      "91       G               90               33                    32   \n",
      "\n",
      "   MARKS IN DESIGN THINKING-1 TOTAL MARKS  \n",
      "0                          30         300  \n",
      "1                          97         382  \n",
      "2                          88         351  \n",
      "3                          75         330  \n",
      "4                          31         269  \n",
      "..                        ...         ...  \n",
      "87                         82         310  \n",
      "88                         79         400  \n",
      "89                         82         337  \n",
      "90                         75         311  \n",
      "91                         78         233  \n",
      "\n",
      "[92 rows x 17 columns]\n"
     ]
    }
   ],
   "source": [
    "\n",
    "import pandas as pd\n",
    "x=pd.read_csv(r\"C:\\Users\\akgau\\Downloads\\result.csv\")\n",
    "print(x)\n"
   ]
  },
  {
   "cell_type": "code",
   "execution_count": 54,
   "id": "644b98cb-9112-4e97-90c0-c0cf2c2f0d99",
   "metadata": {
    "scrolled": true
   },
   "outputs": [
    {
     "name": "stdout",
     "output_type": "stream",
     "text": [
      "MARKS IN ENGLISH              99\n",
      "MARKS IN MATHS-1              96\n",
      "MARKS IN BEEE/PHYSICS         98\n",
      "MARKS IN DESIGN THINKING-1    99\n",
      "dtype: object\n"
     ]
    }
   ],
   "source": [
    "#read the given detail file\n",
    "#find max and min marks of all the subject\n",
    "#apply aggregation on the different group \n",
    "#perform inner join ,outer join ,left jaoin,right join\n",
    "#provide the name of the student who score more than 80 per in mathematics\n",
    "#provide the name of student who score less than 75 per in physics\n",
    "#add new column of cgpa and sgpa\n",
    "#sgpa=total marks/10\n",
    "#add new column name as grade\n",
    "mx=x[['MARKS IN ENGLISH','MARKS IN MATHS-1','MARKS IN BEEE/PHYSICS','MARKS IN DESIGN THINKING-1']].max()\n",
    "print(mx)\n"
   ]
  },
  {
   "cell_type": "code",
   "execution_count": 55,
   "id": "c6ca5740-060a-4c13-bf8f-8d6f457a8bc2",
   "metadata": {},
   "outputs": [
    {
     "name": "stdout",
     "output_type": "stream",
     "text": [
      "MARKS IN ENGLISH              1\n",
      "MARKS IN MATHS-1              1\n",
      "MARKS IN BEEE/PHYSICS         1\n",
      "MARKS IN DESIGN THINKING-1    1\n",
      "dtype: object\n"
     ]
    }
   ],
   "source": [
    "mn=x[['MARKS IN ENGLISH','MARKS IN MATHS-1','MARKS IN BEEE/PHYSICS','MARKS IN DESIGN THINKING-1']].min()\n",
    "print(mn)\n"
   ]
  },
  {
   "cell_type": "code",
   "execution_count": 57,
   "id": "77b2fd98-24e5-4f49-ac30-ecd0d39da72b",
   "metadata": {},
   "outputs": [
    {
     "name": "stdout",
     "output_type": "stream",
     "text": [
      "    ID       Start time  Completion time                  Email  \\\n",
      "0    1  6/18/2025 14:25  6/18/2025 14:26  0241cys090@niet.co.in   \n",
      "1    2  6/18/2025 14:24  6/18/2025 14:27  0241cse367@niet.co.in   \n",
      "2    3  6/18/2025 14:24  6/18/2025 14:28  0241cse304@niet.co.in   \n",
      "3    4  6/18/2025 14:24  6/18/2025 14:28  0241cse142@niet.co.in   \n",
      "4    5  6/18/2025 14:25  6/18/2025 14:28  0241cse268@niet.co.in   \n",
      "..  ..              ...              ...                    ...   \n",
      "87  88  6/18/2025 14:26  6/18/2025 14:33  0241cse263@niet.co.in   \n",
      "88  89  6/18/2025 14:31  6/18/2025 14:34  0241cse104@niet.co.in   \n",
      "89  90  6/18/2025 14:26  6/18/2025 14:34  0241cse024@niet.co.in   \n",
      "90  91  6/18/2025 14:32  6/18/2025 14:34  0241cse009@niet.co.in   \n",
      "91  92  6/18/2025 14:26  6/18/2025 14:34  0241cse074@niet.co.in   \n",
      "\n",
      "                    Name  Last modified time       NAME OF STUDENT  \\\n",
      "0   awanish kumar maurya                 NaN  AWANISH KUMAR MAURYA   \n",
      "1          Harshit Saini                 NaN         Harshit Saini   \n",
      "2         DIVYANSH GUPTA                 NaN       Divyansh Gupta    \n",
      "3            Rudra Verma                 NaN          Rudra Verma    \n",
      "4     Shivaji Bhai Patel                 NaN   Shivaji Bhai Patel    \n",
      "..                   ...                 ...                   ...   \n",
      "87         Sandesh Kumar                 NaN        Sandesh Kumar    \n",
      "88           ANKIT KUMAR                 NaN           ANKIT KUMAR   \n",
      "89    SANTOSH KUMAR SAHU                 NaN    Santosh Kumar Sahu   \n",
      "90       DHANANJAY SINGH                 NaN      Dhananjay Singh    \n",
      "91         Avneesh Kumar                 NaN        Avneesh Kumar    \n",
      "\n",
      "     ROLL NUMBER           ERP ID               Email.ID          BRANCH  \\\n",
      "0   2.401330e+12  CYBER SECURITY   0241cys090@niet.co.in  Cybersecurity    \n",
      "1   2.401330e+12       0241cse367  0241cse367@niet.co.in             CSE   \n",
      "2   2.401330e+12       0241cse304  0241cse304@niet.co.in             CSE   \n",
      "3   2.401330e+12       0241cse142   0241cse142@gmail.com             CSE   \n",
      "4   2.401330e+12       0241cse268  0241cse268@niet.co.in             CSE   \n",
      "..           ...              ...                    ...             ...   \n",
      "87  2.401330e+12       0241cse263  0241cse263@niet.co.in             CSE   \n",
      "88  2.401330e+12       0241cse104  0241cse104@niet.co.in             CSE   \n",
      "89  2.401330e+12       0241CSE024  0241cse024@niet.co.in             CSE   \n",
      "90  2.401330e+12       0241cse009  0241cse009@niet.co.in             CSE   \n",
      "91  2.401330e+12       0241cse074  0241cse074@niet.co.in             CSE   \n",
      "\n",
      "   SECTION MARKS IN ENGLISH MARKS IN MATHS-1 MARKS IN BEEE/PHYSICS  \\\n",
      "0        A              100               90                    80   \n",
      "1        G               95               94                    96   \n",
      "2        F               97               93                    73   \n",
      "3        E               90               80                    85   \n",
      "4        B               98               70                    70   \n",
      "..     ...              ...              ...                   ...   \n",
      "87       D               80               85                    63   \n",
      "88       G               95               85                    82   \n",
      "89       A               98               81                    76   \n",
      "90       C               81               80                    75   \n",
      "91       G               90               33                    32   \n",
      "\n",
      "   MARKS IN DESIGN THINKING-1 TOTAL MARKS  \n",
      "0                          30         300  \n",
      "1                          97         382  \n",
      "2                          88         351  \n",
      "3                          75         330  \n",
      "4                          31         269  \n",
      "..                        ...         ...  \n",
      "87                         82         310  \n",
      "88                         79         400  \n",
      "89                         82         337  \n",
      "90                         75         311  \n",
      "91                         78         233  \n",
      "\n",
      "[92 rows x 17 columns]\n"
     ]
    }
   ],
   "source": [
    "x.rename(columns={'OFFICIAL MAIL-ID': 'Email.ID'},inplace=True)\n",
    "print(x)"
   ]
  },
  {
   "cell_type": "code",
   "execution_count": 60,
   "id": "352e8577-3ec2-4bc5-a091-d7a9cac217ff",
   "metadata": {},
   "outputs": [
    {
     "ename": "TypeError",
     "evalue": "'>' not supported between instances of 'str' and 'int'",
     "output_type": "error",
     "traceback": [
      "\u001b[31m---------------------------------------------------------------------------\u001b[39m",
      "\u001b[31mTypeError\u001b[39m                                 Traceback (most recent call last)",
      "\u001b[36mCell\u001b[39m\u001b[36m \u001b[39m\u001b[32mIn[60]\u001b[39m\u001b[32m, line 1\u001b[39m\n\u001b[32m----> \u001b[39m\u001b[32m1\u001b[39m high_scorers = x[\u001b[43mx\u001b[49m\u001b[43m[\u001b[49m\u001b[33;43m'\u001b[39;49m\u001b[33;43mMARKS IN MATHS-1\u001b[39;49m\u001b[33;43m'\u001b[39;49m\u001b[43m]\u001b[49m\u001b[43m \u001b[49m\u001b[43m>\u001b[49m\u001b[43m \u001b[49m\u001b[32;43m80\u001b[39;49m]\n",
      "\u001b[36mFile \u001b[39m\u001b[32m~\\AppData\\Local\\Programs\\Python\\Python313\\Lib\\site-packages\\pandas\\core\\ops\\common.py:76\u001b[39m, in \u001b[36m_unpack_zerodim_and_defer.<locals>.new_method\u001b[39m\u001b[34m(self, other)\u001b[39m\n\u001b[32m     72\u001b[39m             \u001b[38;5;28;01mreturn\u001b[39;00m \u001b[38;5;28mNotImplemented\u001b[39m\n\u001b[32m     74\u001b[39m other = item_from_zerodim(other)\n\u001b[32m---> \u001b[39m\u001b[32m76\u001b[39m \u001b[38;5;28;01mreturn\u001b[39;00m \u001b[43mmethod\u001b[49m\u001b[43m(\u001b[49m\u001b[38;5;28;43mself\u001b[39;49m\u001b[43m,\u001b[49m\u001b[43m \u001b[49m\u001b[43mother\u001b[49m\u001b[43m)\u001b[49m\n",
      "\u001b[36mFile \u001b[39m\u001b[32m~\\AppData\\Local\\Programs\\Python\\Python313\\Lib\\site-packages\\pandas\\core\\arraylike.py:56\u001b[39m, in \u001b[36mOpsMixin.__gt__\u001b[39m\u001b[34m(self, other)\u001b[39m\n\u001b[32m     54\u001b[39m \u001b[38;5;129m@unpack_zerodim_and_defer\u001b[39m(\u001b[33m\"\u001b[39m\u001b[33m__gt__\u001b[39m\u001b[33m\"\u001b[39m)\n\u001b[32m     55\u001b[39m \u001b[38;5;28;01mdef\u001b[39;00m\u001b[38;5;250m \u001b[39m\u001b[34m__gt__\u001b[39m(\u001b[38;5;28mself\u001b[39m, other):\n\u001b[32m---> \u001b[39m\u001b[32m56\u001b[39m     \u001b[38;5;28;01mreturn\u001b[39;00m \u001b[38;5;28;43mself\u001b[39;49m\u001b[43m.\u001b[49m\u001b[43m_cmp_method\u001b[49m\u001b[43m(\u001b[49m\u001b[43mother\u001b[49m\u001b[43m,\u001b[49m\u001b[43m \u001b[49m\u001b[43moperator\u001b[49m\u001b[43m.\u001b[49m\u001b[43mgt\u001b[49m\u001b[43m)\u001b[49m\n",
      "\u001b[36mFile \u001b[39m\u001b[32m~\\AppData\\Local\\Programs\\Python\\Python313\\Lib\\site-packages\\pandas\\core\\series.py:6130\u001b[39m, in \u001b[36mSeries._cmp_method\u001b[39m\u001b[34m(self, other, op)\u001b[39m\n\u001b[32m   6127\u001b[39m lvalues = \u001b[38;5;28mself\u001b[39m._values\n\u001b[32m   6128\u001b[39m rvalues = extract_array(other, extract_numpy=\u001b[38;5;28;01mTrue\u001b[39;00m, extract_range=\u001b[38;5;28;01mTrue\u001b[39;00m)\n\u001b[32m-> \u001b[39m\u001b[32m6130\u001b[39m res_values = \u001b[43mops\u001b[49m\u001b[43m.\u001b[49m\u001b[43mcomparison_op\u001b[49m\u001b[43m(\u001b[49m\u001b[43mlvalues\u001b[49m\u001b[43m,\u001b[49m\u001b[43m \u001b[49m\u001b[43mrvalues\u001b[49m\u001b[43m,\u001b[49m\u001b[43m \u001b[49m\u001b[43mop\u001b[49m\u001b[43m)\u001b[49m\n\u001b[32m   6132\u001b[39m \u001b[38;5;28;01mreturn\u001b[39;00m \u001b[38;5;28mself\u001b[39m._construct_result(res_values, name=res_name)\n",
      "\u001b[36mFile \u001b[39m\u001b[32m~\\AppData\\Local\\Programs\\Python\\Python313\\Lib\\site-packages\\pandas\\core\\ops\\array_ops.py:344\u001b[39m, in \u001b[36mcomparison_op\u001b[39m\u001b[34m(left, right, op)\u001b[39m\n\u001b[32m    341\u001b[39m     \u001b[38;5;28;01mreturn\u001b[39;00m invalid_comparison(lvalues, rvalues, op)\n\u001b[32m    343\u001b[39m \u001b[38;5;28;01melif\u001b[39;00m lvalues.dtype == \u001b[38;5;28mobject\u001b[39m \u001b[38;5;129;01mor\u001b[39;00m \u001b[38;5;28misinstance\u001b[39m(rvalues, \u001b[38;5;28mstr\u001b[39m):\n\u001b[32m--> \u001b[39m\u001b[32m344\u001b[39m     res_values = \u001b[43mcomp_method_OBJECT_ARRAY\u001b[49m\u001b[43m(\u001b[49m\u001b[43mop\u001b[49m\u001b[43m,\u001b[49m\u001b[43m \u001b[49m\u001b[43mlvalues\u001b[49m\u001b[43m,\u001b[49m\u001b[43m \u001b[49m\u001b[43mrvalues\u001b[49m\u001b[43m)\u001b[49m\n\u001b[32m    346\u001b[39m \u001b[38;5;28;01melse\u001b[39;00m:\n\u001b[32m    347\u001b[39m     res_values = _na_arithmetic_op(lvalues, rvalues, op, is_cmp=\u001b[38;5;28;01mTrue\u001b[39;00m)\n",
      "\u001b[36mFile \u001b[39m\u001b[32m~\\AppData\\Local\\Programs\\Python\\Python313\\Lib\\site-packages\\pandas\\core\\ops\\array_ops.py:129\u001b[39m, in \u001b[36mcomp_method_OBJECT_ARRAY\u001b[39m\u001b[34m(op, x, y)\u001b[39m\n\u001b[32m    127\u001b[39m     result = libops.vec_compare(x.ravel(), y.ravel(), op)\n\u001b[32m    128\u001b[39m \u001b[38;5;28;01melse\u001b[39;00m:\n\u001b[32m--> \u001b[39m\u001b[32m129\u001b[39m     result = \u001b[43mlibops\u001b[49m\u001b[43m.\u001b[49m\u001b[43mscalar_compare\u001b[49m\u001b[43m(\u001b[49m\u001b[43mx\u001b[49m\u001b[43m.\u001b[49m\u001b[43mravel\u001b[49m\u001b[43m(\u001b[49m\u001b[43m)\u001b[49m\u001b[43m,\u001b[49m\u001b[43m \u001b[49m\u001b[43my\u001b[49m\u001b[43m,\u001b[49m\u001b[43m \u001b[49m\u001b[43mop\u001b[49m\u001b[43m)\u001b[49m\n\u001b[32m    130\u001b[39m \u001b[38;5;28;01mreturn\u001b[39;00m result.reshape(x.shape)\n",
      "\u001b[36mFile \u001b[39m\u001b[32mpandas/_libs/ops.pyx:107\u001b[39m, in \u001b[36mpandas._libs.ops.scalar_compare\u001b[39m\u001b[34m()\u001b[39m\n",
      "\u001b[31mTypeError\u001b[39m: '>' not supported between instances of 'str' and 'int'"
     ]
    }
   ],
   "source": [
    "high_scorers = x[x['MARKS IN MATHS-1'] > 80]"
   ]
  },
  {
   "cell_type": "markdown",
   "id": "8f93d62c-31a5-4e40-a4e8-8b79ce32623d",
   "metadata": {},
   "source": []
  }
 ],
 "metadata": {
  "kernelspec": {
   "display_name": "Python 3 (ipykernel)",
   "language": "python",
   "name": "python3"
  },
  "language_info": {
   "codemirror_mode": {
    "name": "ipython",
    "version": 3
   },
   "file_extension": ".py",
   "mimetype": "text/x-python",
   "name": "python",
   "nbconvert_exporter": "python",
   "pygments_lexer": "ipython3",
   "version": "3.13.4"
  }
 },
 "nbformat": 4,
 "nbformat_minor": 5
}
