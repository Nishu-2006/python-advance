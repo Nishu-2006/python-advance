{
 "cells": [
  {
   "cell_type": "code",
   "execution_count": 1,
   "id": "679d3d2c-10e5-4091-8b2d-af3dc42b60b6",
   "metadata": {},
   "outputs": [
    {
     "name": "stdin",
     "output_type": "stream",
     "text": [
      "enter n 7\n"
     ]
    },
    {
     "name": "stdout",
     "output_type": "stream",
     "text": [
      "7\n",
      "14\n",
      "21\n",
      "28\n",
      "35\n",
      "42\n",
      "49\n",
      "56\n",
      "63\n",
      "70\n"
     ]
    }
   ],
   "source": [
    "n=int(input(\"enter n\"))\n",
    "i=1\n",
    "while i<=10:\n",
    "    print(n*i)\n",
    "    i+=1"
   ]
  },
  {
   "cell_type": "code",
   "execution_count": 5,
   "id": "e7c33c60-f0b0-472d-8c94-697f19cb90b0",
   "metadata": {},
   "outputs": [
    {
     "name": "stdout",
     "output_type": "stream",
     "text": [
      "1\n",
      "4\n",
      "9\n",
      "16\n",
      "25\n"
     ]
    }
   ],
   "source": [
    "\n",
    "num=[1,4,9,16,25]\n",
    "i=0\n",
    "while i<len(num):\n",
    "    print(num[i])\n",
    "    i+=1\n",
    "        "
   ]
  },
  {
   "cell_type": "code",
   "execution_count": 7,
   "id": "b7333829-5cc6-43ba-ad65-34f42272fc7c",
   "metadata": {},
   "outputs": [
    {
     "name": "stdout",
     "output_type": "stream",
     "text": [
      "sharukh\n",
      "salman\n",
      "aamir\n",
      "superman\n"
     ]
    }
   ],
   "source": [
    "heros=['sharukh','salman','aamir','superman']\n",
    "i=0\n",
    "while i<len(heros):\n",
    "    print(heros[i])\n",
    "    i+=1"
   ]
  },
  {
   "cell_type": "code",
   "execution_count": 3,
   "id": "08775c91-a0c7-463a-bd83-69a547c1eb8c",
   "metadata": {},
   "outputs": [
    {
     "name": "stdout",
     "output_type": "stream",
     "text": [
      "finding....\n",
      "finding....\n",
      " found at index: 2\n",
      "finding....\n",
      "finding....\n"
     ]
    }
   ],
   "source": [
    "#finding an element \n",
    "num=[12,16,98,67,45]\n",
    "x=98\n",
    "i=0\n",
    "while i<len(num):\n",
    "    if (num[i]==x):\n",
    "        print(\" found at index:\",i)   \n",
    "    else:\n",
    "        print(\"finding....\");\n",
    "    i+=1"
   ]
  },
  {
   "cell_type": "code",
   "execution_count": null,
   "id": "2232090f-351a-4ea7-88f9-70eb7a80818e",
   "metadata": {},
   "outputs": [],
   "source": [
    "i=0\n",
    "while i<=5:\n",
    "    print(i)\n",
    "    i+=1"
   ]
  },
  {
   "cell_type": "code",
   "execution_count": null,
   "id": "5b064ee6-f94a-4302-9edc-7598349ab622",
   "metadata": {},
   "outputs": [],
   "source": []
  }
 ],
 "metadata": {
  "kernelspec": {
   "display_name": "Python 3 (ipykernel)",
   "language": "python",
   "name": "python3"
  },
  "language_info": {
   "codemirror_mode": {
    "name": "ipython",
    "version": 3
   },
   "file_extension": ".py",
   "mimetype": "text/x-python",
   "name": "python",
   "nbconvert_exporter": "python",
   "pygments_lexer": "ipython3",
   "version": "3.13.4"
  }
 },
 "nbformat": 4,
 "nbformat_minor": 5
}
