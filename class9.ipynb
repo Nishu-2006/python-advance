{
 "cells": [
  {
   "cell_type": "code",
   "execution_count": null,
   "id": "1cb8a867-e134-483b-8005-30d46aca05f0",
   "metadata": {},
   "outputs": [],
   "source": [
    "\n",
    "les,p]pclass string1:\n",
    "    def __init__(self,str):\n",
    "        self.str=str\n",
    "        self.upper=0\n",
    "        self.lower=0\n",
    "        self.vowel=0\n",
    "        self.consonant=0\n",
    "        self.space=0\n",
    "    def upper_case(self):\n",
    "        for i in self.str:\n",
    "            if i.isupper():\n",
    "                self.upper+=1\n",
    "    def lower_case(self):\n",
    "        for i in self.str:\n",
    "            if i.islower():\n",
    "                self.lower+=1\n",
    "    def vowel(self):\n",
    "        for i in self.str:\n",
    "            if i in \"aeiouAEIOU\":\n",
    "                self.vowel+=1\n",
    "    def consonant(self):\n",
    "        for i in self.str:\n",
    "            if i not in\"aeiouAEIOU\":\n",
    "                if i.isalpha():\n",
    "                    self.consonant+=1\n",
    "    def space(self):\n",
    "        for i in self.str:\n",
    "            if i.isspace():\n",
    "                self.space+=1\n",
    "\n",
    "    def display(self):\n",
    "        print(\"upper case:\",self.upper)\n",
    "        print(\"lower case:\",self.lower)\n",
    "        print(\"vowel:\",self.vowel)\n",
    "        print(\"consonant:\",self.consonant)\n",
    "        print(\"space:\",self.space)\n",
    "\n",
    "s=input(\"Enter input\")\n",
    "s.upper_case()\n",
    "            "
   ]
  },
  {
   "cell_type": "code",
   "execution_count": null,
   "id": "b743ecbd-61f8-4c39-9702-ac48443ab6af",
   "metadata": {},
   "outputs": [],
   "source": []
  }
 ],
 "metadata": {
  "kernelspec": {
   "display_name": "Python 3 (ipykernel)",
   "language": "python",
   "name": "python3"
  },
  "language_info": {
   "codemirror_mode": {
    "name": "ipython",
    "version": 3
   },
   "file_extension": ".py",
   "mimetype": "text/x-python",
   "name": "python",
   "nbconvert_exporter": "python",
   "pygments_lexer": "ipython3",
   "version": "3.13.4"
  }
 },
 "nbformat": 4,
 "nbformat_minor": 5
}
