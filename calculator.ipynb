{
 "cells": [
  {
   "cell_type": "code",
   "execution_count": null,
   "id": "4681f46c-62b6-4395-8ef4-7e8d7b1f4f7d",
   "metadata": {},
   "outputs": [],
   "source": [
    "#calculator\n",
    "a=int(input(\"Enter first num:\"))\n",
    "operator=input(\"Enter operator(+,-,*,/,%):\")\n",
    "b=int(input(\"Enter second num:\"))\n",
    "if operator == \"+\":\n",
    "    print(a+b)\n",
    "elif operator == \"-\":\n",
    "    print(a-b)\n",
    "elif operator == \"*\":\n",
    "    print(a*b)\n",
    "elif operator == \"/\":\n",
    "    print(a/b)\n",
    "elif operator == \"%\":\n",
    "    print(a%b)\n",
    "    "
   ]
  },
  {
   "cell_type": "code",
   "execution_count": 18,
   "id": "1abb58bf-a372-4b90-b84f-27665cccf83d",
   "metadata": {},
   "outputs": [
    {
     "name": "stdout",
     "output_type": "stream",
     "text": [
      "**\n",
      "**\n",
      "**\n",
      "**\n",
      "**\n"
     ]
    }
   ],
   "source": [
    "i=1\n",
    "while i<=5:\n",
    "    print(2*\"*\")\n",
    "    i+=1"
   ]
  },
  {
   "cell_type": "code",
   "execution_count": null,
   "id": "5826a8a8-6778-4f21-82e4-0c43669d2273",
   "metadata": {},
   "outputs": [],
   "source": [
    "i=1\n",
    "while i<=5:\n",
    "    print(i*\"*\")\n",
    "    i+=1"
   ]
  }
 ],
 "metadata": {
  "kernelspec": {
   "display_name": "Python 3 (ipykernel)",
   "language": "python",
   "name": "python3"
  },
  "language_info": {
   "codemirror_mode": {
    "name": "ipython",
    "version": 3
   },
   "file_extension": ".py",
   "mimetype": "text/x-python",
   "name": "python",
   "nbconvert_exporter": "python",
   "pygments_lexer": "ipython3",
   "version": "3.13.4"
  }
 },
 "nbformat": 4,
 "nbformat_minor": 5
}
