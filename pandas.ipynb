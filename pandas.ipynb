{
 "cells": [
  {
   "cell_type": "code",
   "execution_count": 2,
   "id": "e57905a2-fa18-4179-9060-3df301339a65",
   "metadata": {},
   "outputs": [
    {
     "name": "stdout",
     "output_type": "stream",
     "text": [
      "    Names Roll no  Marks\n",
      "1  shreya     124     23\n",
      "2   nisha     245     45\n",
      "3     dev     252     67\n",
      "4   mansi     167     88\n",
      "    Names Roll no  Marks  Address\n",
      "1  shreya     124     23    Noida\n",
      "2   nisha     245     45    Delhi\n",
      "3     dev     252     67  Newyork\n",
      "4   mansi     167     88      usa\n"
     ]
    }
   ],
   "source": [
    "import pandas as pd\n",
    "s1=pd.Series(['shreya','nisha','dev','mansi'],index=[1,2,3,4])\n",
    "s2=pd.Series(['124','245','252','167'],index=[1,2,3,4])\n",
    "s3=pd.Series([23,45,67,88],index=[1,2,3,4])\n",
    "x={'Names':s1,'Roll no':s2,'Marks':s3}\n",
    "y=pd.DataFrame(x)\n",
    "print(y)\n",
    "y['Address']=['Noida','Delhi','Newyork','usa']\n",
    "print(y)\n",
    "\n"
   ]
  },
  {
   "cell_type": "code",
   "execution_count": 5,
   "id": "ec0945b9-15de-4e92-803b-e8e72d1c164e",
   "metadata": {},
   "outputs": [],
   "source": [
    "y.to_excel(r\"C:\\Users\\akgau\\Downloads\\nishaa.xlsx\")"
   ]
  },
  {
   "cell_type": "code",
   "execution_count": null,
   "id": "9c19ad00-b58d-4245-b4ee-b1b0cb9bb87e",
   "metadata": {},
   "outputs": [],
   "source": []
  },
  {
   "cell_type": "code",
   "execution_count": null,
   "id": "9cc41426-c05f-4a5f-9b52-2a6791dab232",
   "metadata": {},
   "outputs": [],
   "source": []
  }
 ],
 "metadata": {
  "kernelspec": {
   "display_name": "Python 3 (ipykernel)",
   "language": "python",
   "name": "python3"
  },
  "language_info": {
   "codemirror_mode": {
    "name": "ipython",
    "version": 3
   },
   "file_extension": ".py",
   "mimetype": "text/x-python",
   "name": "python",
   "nbconvert_exporter": "python",
   "pygments_lexer": "ipython3",
   "version": "3.13.4"
  }
 },
 "nbformat": 4,
 "nbformat_minor": 5
}
