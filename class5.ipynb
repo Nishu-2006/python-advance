{
 "cells": [
  {
   "cell_type": "code",
   "execution_count": 9,
   "id": "8f04d941-395f-4d37-813f-b2e37216a2a4",
   "metadata": {},
   "outputs": [
    {
     "name": "stdin",
     "output_type": "stream",
     "text": [
      "enter the subject of your choice: coa\n"
     ]
    },
    {
     "name": "stdout",
     "output_type": "stream",
     "text": [
      "option available\n"
     ]
    },
    {
     "name": "stdin",
     "output_type": "stream",
     "text": [
      "enter your name: nisha\n",
      "enter your roll no: 235\n"
     ]
    },
    {
     "name": "stdout",
     "output_type": "stream",
     "text": [
      "-------Student information-------\n",
      "name of student: nisha\n",
      "roll no of student: 235\n",
      "subject is alloted: coa\n"
     ]
    }
   ],
   "source": [
    "class Choice:\n",
    "    def __init__(self,n,r,subject):\n",
    "        self.name=n\n",
    "        self.roll=r\n",
    "        self.subject=subject\n",
    "    def display(self):\n",
    "        print(\"-------Student information-------\")\n",
    "        print(\"name of student:\",self.name)\n",
    "        print(\"roll no of student:\",self.roll)\n",
    "        print(\"subject is alloted:\",self.subject)\n",
    "    @staticmethod\n",
    "    def validate_subject(subject,x):\n",
    "        if x in subject:\n",
    "            print(\"option available\")\n",
    "            return True\n",
    "        else:\n",
    "            print(\"option not available\")\n",
    "            return False\n",
    "subject=[\"tafl\",\"ds\",\"coa\",\"dld\"]\n",
    "sub=input(\"enter the subject of your choice:\").lower()\n",
    "if Choice.validate_subject(subject,sub):\n",
    "    name=input(\"enter your name:\")\n",
    "    roll=int(input(\"enter your roll no:\"))\n",
    "    c=Choice(name,roll,sub)\n",
    "    c.display()\n",
    "\n",
    "    \n",
    "            \n",
    " "
   ]
  },
  {
   "cell_type": "code",
   "execution_count": 11,
   "id": "64ff1c9d-2891-4030-aa1a-e040dec40471",
   "metadata": {},
   "outputs": [
    {
     "data": {
      "text/plain": [
       "['__add__',\n",
       " '__class__',\n",
       " '__contains__',\n",
       " '__delattr__',\n",
       " '__dir__',\n",
       " '__doc__',\n",
       " '__eq__',\n",
       " '__format__',\n",
       " '__ge__',\n",
       " '__getattribute__',\n",
       " '__getitem__',\n",
       " '__getnewargs__',\n",
       " '__getstate__',\n",
       " '__gt__',\n",
       " '__hash__',\n",
       " '__init__',\n",
       " '__init_subclass__',\n",
       " '__iter__',\n",
       " '__le__',\n",
       " '__len__',\n",
       " '__lt__',\n",
       " '__mod__',\n",
       " '__mul__',\n",
       " '__ne__',\n",
       " '__new__',\n",
       " '__reduce__',\n",
       " '__reduce_ex__',\n",
       " '__repr__',\n",
       " '__rmod__',\n",
       " '__rmul__',\n",
       " '__setattr__',\n",
       " '__sizeof__',\n",
       " '__str__',\n",
       " '__subclasshook__',\n",
       " 'capitalize',\n",
       " 'casefold',\n",
       " 'center',\n",
       " 'count',\n",
       " 'encode',\n",
       " 'endswith',\n",
       " 'expandtabs',\n",
       " 'find',\n",
       " 'format',\n",
       " 'format_map',\n",
       " 'index',\n",
       " 'isalnum',\n",
       " 'isalpha',\n",
       " 'isascii',\n",
       " 'isdecimal',\n",
       " 'isdigit',\n",
       " 'isidentifier',\n",
       " 'islower',\n",
       " 'isnumeric',\n",
       " 'isprintable',\n",
       " 'isspace',\n",
       " 'istitle',\n",
       " 'isupper',\n",
       " 'join',\n",
       " 'ljust',\n",
       " 'lower',\n",
       " 'lstrip',\n",
       " 'maketrans',\n",
       " 'partition',\n",
       " 'removeprefix',\n",
       " 'removesuffix',\n",
       " 'replace',\n",
       " 'rfind',\n",
       " 'rindex',\n",
       " 'rjust',\n",
       " 'rpartition',\n",
       " 'rsplit',\n",
       " 'rstrip',\n",
       " 'split',\n",
       " 'splitlines',\n",
       " 'startswith',\n",
       " 'strip',\n",
       " 'swapcase',\n",
       " 'title',\n",
       " 'translate',\n",
       " 'upper',\n",
       " 'zfill']"
      ]
     },
     "execution_count": 11,
     "metadata": {},
     "output_type": "execute_result"
    }
   ],
   "source": [
    "dir(str)"
   ]
  },
  {
   "cell_type": "code",
   "execution_count": 12,
   "id": "91c32b5f-3bce-4b85-9aa4-7092085c0026",
   "metadata": {},
   "outputs": [
    {
     "name": "stdout",
     "output_type": "stream",
     "text": [
      "15\n",
      "15\n"
     ]
    }
   ],
   "source": [
    "#ADD MAGIC Method\n",
    "num=10\n",
    "print(num+5)\n",
    "print(num.__add__(5))"
   ]
  },
  {
   "cell_type": "code",
   "execution_count": 13,
   "id": "d5eb4d81-28a6-4d59-a3b1-95c6173c4337",
   "metadata": {},
   "outputs": [
    {
     "ename": "SyntaxError",
     "evalue": "invalid syntax (3414040000.py, line 2)",
     "output_type": "error",
     "traceback": [
      "  \u001b[36mCell\u001b[39m\u001b[36m \u001b[39m\u001b[32mIn[13]\u001b[39m\u001b[32m, line 2\u001b[39m\n\u001b[31m    \u001b[39m\u001b[31mdef __add__(2,5)\u001b[39m\n                ^\n\u001b[31mSyntaxError\u001b[39m\u001b[31m:\u001b[39m invalid syntax\n"
     ]
    }
   ],
   "source": [
    "class int:\n",
    "    def __add__(a,b)"
   ]
  },
  {
   "cell_type": "code",
   "execution_count": 16,
   "id": "369a405b-d724-41c8-a440-07476280dc8b",
   "metadata": {},
   "outputs": [
    {
     "name": "stdout",
     "output_type": "stream",
     "text": [
      "the new magic method is called\n",
      "__init__magic method is called\n",
      "<__main__.A object at 0x00000208C0866E40>\n"
     ]
    }
   ],
   "source": [
    "#NEW MAGIC MEthod\n",
    "class A:\n",
    "    def __new__(cls):\n",
    "        print(\"the new magic method is called\")\n",
    "        inst=object.__new__(cls)\n",
    "        return inst\n",
    "    def __init__(self):\n",
    "        print(\"__init__magic method is called\")\n",
    "        self.name='python'\n",
    "a=A()\n",
    "print(a)"
   ]
  },
  {
   "cell_type": "code",
   "execution_count": 17,
   "id": "0cfbd0d4-2980-4ca3-a8de-3b6d65922e40",
   "metadata": {},
   "outputs": [
    {
     "ename": "NameError",
     "evalue": "name 'init' is not defined",
     "output_type": "error",
     "traceback": [
      "\u001b[31m---------------------------------------------------------------------------\u001b[39m",
      "\u001b[31mNameError\u001b[39m                                 Traceback (most recent call last)",
      "\u001b[36mCell\u001b[39m\u001b[36m \u001b[39m\u001b[32mIn[17]\u001b[39m\u001b[32m, line 4\u001b[39m\n\u001b[32m      2\u001b[39m num=\u001b[32m12\u001b[39m\n\u001b[32m      3\u001b[39m X=\u001b[38;5;28mstr\u001b[39m(num)\n\u001b[32m----> \u001b[39m\u001b[32m4\u001b[39m Y=\u001b[43minit\u001b[49m.\u001b[34m__str__\u001b[39m(num)\n\u001b[32m      5\u001b[39m \u001b[38;5;28mprint\u001b[39m(\u001b[38;5;28mtype\u001b[39m(num))\n\u001b[32m      6\u001b[39m \u001b[38;5;28mprint\u001b[39m(\u001b[38;5;28mtype\u001b[39m(X))\n",
      "\u001b[31mNameError\u001b[39m: name 'init' is not defined"
     ]
    }
   ],
   "source": [
    "#str() method\n",
    "num=12\n",
    "X=str(num)\n",
    "Y=init.__str__(num)\n",
    "print(type(num))\n",
    "print(type(X))\n",
    "print(type(Y))\n"
   ]
  },
  {
   "cell_type": "code",
   "execution_count": 18,
   "id": "c2769e62-f7d9-487b-a5ef-f256ace66770",
   "metadata": {},
   "outputs": [
    {
     "name": "stdout",
     "output_type": "stream",
     "text": [
      "hello\n",
      "'hello'\n"
     ]
    }
   ],
   "source": [
    "s='hello'\n",
    "print(str(s))\n",
    "print(repr(s))"
   ]
  },
  {
   "cell_type": "code",
   "execution_count": 19,
   "id": "e6425f10-b66b-4cc5-9dab-cd5d5ac0e78f",
   "metadata": {},
   "outputs": [
    {
     "name": "stdout",
     "output_type": "stream",
     "text": [
      "2025-06-12 11:28:50.749426\n",
      "datetime.datetime(2025, 6, 12, 11, 28, 50, 749426)\n"
     ]
    }
   ],
   "source": [
    "ewimport datetime\n",
    "today=datetime.datetime.now()\n",
    "print(str(today))\n",
    "print(repr(today))"
   ]
  },
  {
   "cell_type": "code",
   "execution_count": 22,
   "id": "e564d81d-675b-47a7-9764-845c871308f4",
   "metadata": {},
   "outputs": [
    {
     "name": "stdout",
     "output_type": "stream",
     "text": [
      "sum is: 8\n",
      "multiplication is : 60\n",
      "subtraction is : 9\n",
      "the value is  (5, 3)\n"
     ]
    }
   ],
   "source": [
    "class Numbers:\n",
    "    multiplier=10\n",
    "    def __init__(self,x,y):\n",
    "        self.x=x\n",
    "        self.y=y\n",
    "    def add(self):\n",
    "        sum=self.x+self.y\n",
    "        return sum\n",
    "    def multiply(cls,a):\n",
    "        multiply=a*cls.multiplier\n",
    "        return multiply\n",
    "    @staticmethod\n",
    "    def subtract(b,c):\n",
    "        subtract=b-c\n",
    "        return subtract\n",
    "    def value(self):\n",
    "        return self.x, self.y\n",
    "a1=Numbers(5,3)\n",
    "print(\"sum is:\",a1.add())\n",
    "print(\"multiplication is :\",a1.multiply(6))\n",
    "print(\"subtraction is :\",a1.subtract(14,5))\n",
    "print(\"the value is \",a1.value())\n",
    "    \n",
    "    "
   ]
  },
  {
   "cell_type": "code",
   "execution_count": 24,
   "id": "03ce55b7-2e63-48e9-b607-0ee4923f63ee",
   "metadata": {},
   "outputs": [
    {
     "ename": "SyntaxError",
     "evalue": "expected ':' (2345110759.py, line 1)",
     "output_type": "error",
     "traceback": [
      "  \u001b[36mCell\u001b[39m\u001b[36m \u001b[39m\u001b[32mIn[24]\u001b[39m\u001b[32m, line 1\u001b[39m\n\u001b[31m    \u001b[39m\u001b[31mclass string\u001b[39m\n                ^\n\u001b[31mSyntaxError\u001b[39m\u001b[31m:\u001b[39m expected ':'\n"
     ]
    }
   ],
   "source": [
    "class string:\n",
    "    upper=0\n",
    "    lower=0\n",
    "    vowel=0\n",
    "    consonant=0\n",
    "    space=0\n",
    "    def __init__(self,str):\n",
    "        self.str=str\n",
    "        \n",
    "    def upper_case(self):\n",
    "        for i in self.str:\n",
    "            if i.uppercase:\n",
    "                self.upper+=1\n",
    "        return self.upper\n",
    "        \n",
    "    def lower_case(self):\n",
    "        for i in self.str:\n",
    "            if i.lowercase:\n",
    "                self.lower+=1\n",
    "        return self.lower\n",
    "        \n",
    "    def vowel(self):\n",
    "        for i in self.str:\n",
    "            if i.['a','e','i','o','u']:\n",
    "                self.vowel+=1\n",
    "        return self.vowel\n",
    "        \n",
    "    def consonant(self):\n",
    "        for i not in self.str:\n",
    "            if i.:\n",
    "                upper+=1\n",
    "    def __init__(self,str):\n",
    "        self.str=str\n",
    "    def upper_case(self):\n",
    "        for i in self.str:\n",
    "            if i.uppercase:\n",
    "                upper+=1\n",
    "        \n",
    "    "
   ]
  },
  {
   "cell_type": "code",
   "execution_count": 8,
   "id": "96e34811-8e26-428d-965a-96915dd75803",
   "metadata": {},
   "outputs": [
    {
     "name": "stdout",
     "output_type": "stream",
     "text": [
      "<class 'object'>\n",
      "<class '__main__.Person'>\n"
     ]
    }
   ],
   "source": [
    "class Person:\n",
    "    pass\n",
    "print(Person.__base__)\n",
    "class Teacher(Person):\n",
    "    pass\n",
    "print(Teacher.__base__)"
   ]
  },
  {
   "cell_type": "code",
   "execution_count": 11,
   "id": "d8222659-5906-435b-a14f-97eb266bdc69",
   "metadata": {},
   "outputs": [
    {
     "name": "stdout",
     "output_type": "stream",
     "text": [
      "inside method 1\n",
      "inside method 2\n",
      "inside method 3\n",
      "inside method 1\n",
      "inside method 2\n"
     ]
    },
    {
     "ename": "AttributeError",
     "evalue": "'A' object has no attribute 'meth3'",
     "output_type": "error",
     "traceback": [
      "\u001b[31m---------------------------------------------------------------------------\u001b[39m",
      "\u001b[31mAttributeError\u001b[39m                            Traceback (most recent call last)",
      "\u001b[36mCell\u001b[39m\u001b[36m \u001b[39m\u001b[32mIn[11]\u001b[39m\u001b[32m, line 17\u001b[39m\n\u001b[32m     15\u001b[39m ob2.meth1()\n\u001b[32m     16\u001b[39m ob2.meth2()\n\u001b[32m---> \u001b[39m\u001b[32m17\u001b[39m \u001b[43mob2\u001b[49m\u001b[43m.\u001b[49m\u001b[43mmeth3\u001b[49m()\n",
      "\u001b[31mAttributeError\u001b[39m: 'A' object has no attribute 'meth3'"
     ]
    }
   ],
   "source": [
    "#single inheritance\n",
    "class A:\n",
    "    def meth1(self):\n",
    "        print('inside method 1')\n",
    "    def meth2(self):\n",
    "        print('inside method 2')\n",
    "class B(A):\n",
    "    def meth3(self):\n",
    "        print('inside method 3')\n",
    "ob1=B()\n",
    "ob2=A()\n",
    "ob1.meth1()\n",
    "ob1.meth2()\n",
    "ob1.meth3()\n",
    "ob2.meth1()\n",
    "ob2.meth2()\n",
    "ob2.meth3()\n",
    "\n",
    "\n",
    "\n",
    "    "
   ]
  },
  {
   "cell_type": "code",
   "execution_count": 18,
   "id": "5eb38c7a-8aab-4312-8580-cff70a270f58",
   "metadata": {},
   "outputs": [
    {
     "name": "stdout",
     "output_type": "stream",
     "text": [
      "inside method 1\n",
      "attribute 1: 90\n",
      "attribute 2: 100\n",
      "inside method 2\n",
      "attribute 3: 50\n",
      "attribute 4: 70\n",
      "attribute 5: 90\n"
     ]
    }
   ],
   "source": [
    "#attribute Accessbility\n",
    "class A:\n",
    "    def setdataA(self):\n",
    "        self.attr1=90\n",
    "        self.__attr2=100\n",
    "    def check(self):\n",
    "        print(\"inside method 1\")\n",
    "        print(\"attribute 1:\",self.attr1)\n",
    "        print(\"attribute 2:\",self.__attr2)\n",
    "        \n",
    "class B(A):\n",
    "    def setdataB(self):\n",
    "        self.attr3=50\n",
    "        self.__attr4=70\n",
    "\n",
    "    def check2(self):\n",
    "        print(\"inside method 2\")\n",
    "        print(\"attribute 3:\",self.attr3)\n",
    "        print(\"attribute 4:\",self.__attr4)\n",
    "        print(\"attribute 5:\",self.attr1)\n",
    "obj1=B()\n",
    "obj1.setdataA()\n",
    "obj1.check()\n",
    "obj1.setdataB()\n",
    "obj1.check2()\n",
    "\n",
    "        \n",
    "        \n",
    "        \n",
    "    \n",
    "        \n",
    "    "
   ]
  },
  {
   "cell_type": "code",
   "execution_count": 21,
   "id": "1c0d9705-4756-4c51-ad1a-fe8258dd9950",
   "metadata": {},
   "outputs": [
    {
     "name": "stdout",
     "output_type": "stream",
     "text": [
      "(12.56, 12.56)\n"
     ]
    }
   ],
   "source": [
    "class Circle:\n",
    "    def __init__(self,radius):\n",
    "        self.radius=radius\n",
    "        self.ar=self.area()\n",
    "        self.cir=self.circum()\n",
    "    pi=3.14\n",
    "    def area(self):\n",
    "        area=self.pi*self.radius*self.radius\n",
    "        return area\n",
    "    def circum(self):\n",
    "        perimeter=2*self.pi*self.radius\n",
    "        return perimeter\n",
    "    def display(self):\n",
    "        return self.ar,self.cir\n",
    "p1=Circle(2)\n",
    "print(p1.display())\n",
    "    \n",
    "    "
   ]
  },
  {
   "cell_type": "code",
   "execution_count": 29,
   "id": "add4dd91-0a59-4b38-902e-faff8c9762a3",
   "metadata": {},
   "outputs": [
    {
     "name": "stdout",
     "output_type": "stream",
     "text": [
      "avg of 20,30,40 is: 30.0\n",
      "avg of 40,50,60 is: 50.0\n"
     ]
    }
   ],
   "source": [
    "class Student:\n",
    "    def __init__(self,name,maths,eng,hindi):\n",
    "        self.name=name\n",
    "        self.maths=maths\n",
    "        self.eng=eng\n",
    "        self.hindi=hindi\n",
    "    def avg(self):\n",
    "        avg=(self.maths+self.eng+self.hindi)/3\n",
    "        print(f\"avg of {self.maths},{self.eng},{self.hindi} is:\",avg)\n",
    "obj1=Student(\"nisha\",20,30,40)\n",
    "obj1.avg()\n",
    "obj2=Student(\"dev\",40,50,60)\n",
    "obj2.avg()"
   ]
  },
  {
   "cell_type": "code",
   "execution_count": 30,
   "id": "45642e2e-49be-43ff-9869-ee39e28cf211",
   "metadata": {},
   "outputs": [
    {
     "name": "stdout",
     "output_type": "stream",
     "text": [
      "max element in list: 8\n"
     ]
    }
   ],
   "source": [
    "class greatest:\n",
    "    def __init__(self,a):\n",
    "        self.a=a\n",
    "    def mx(self):\n",
    "        mx=max(self.a)\n",
    "        print(\"max element in list:\",mx)\n",
    "p1=greatest([1,7,3,8,4])\n",
    "p1.mx()\n",
    "        "
   ]
  },
  {
   "cell_type": "code",
   "execution_count": 31,
   "id": "cc24c421-0d2b-4a0b-824c-2d2f88f7dbda",
   "metadata": {},
   "outputs": [
    {
     "name": "stdout",
     "output_type": "stream",
     "text": [
      "min element in list: 1\n"
     ]
    }
   ],
   "source": [
    "class lowest:\n",
    "    def __init__(self,a):\n",
    "        self.a=a\n",
    "    def mn(self):\n",
    "        mn=min(self.a)\n",
    "        print(\"min element in list:\",mn)\n",
    "p1=lowest([1,7,3,8,4])\n",
    "p1.mn()\n",
    "        \n"
   ]
  },
  {
   "cell_type": "code",
   "execution_count": 32,
   "id": "6aae120f-8458-476b-b501-b2b49ac0820c",
   "metadata": {},
   "outputs": [
    {
     "name": "stdout",
     "output_type": "stream",
     "text": [
      "gretest in list : 9\n"
     ]
    }
   ],
   "source": [
    "a=[2,8,9,6,4]\n",
    "mn=a[0]\n",
    "for i in a:\n",
    "    if i>mn:\n",
    "        mn=i\n",
    "print(\"gretest in list :\",mn)"
   ]
  },
  {
   "cell_type": "code",
   "execution_count": 2,
   "id": "33776c7a-5d29-44dd-8754-1d9240c1d5a0",
   "metadata": {},
   "outputs": [
    {
     "name": "stdout",
     "output_type": "stream",
     "text": [
      "welcome\n"
     ]
    }
   ],
   "source": [
    "def greeting():\n",
    "    print(\"welcome\")\n",
    "greeting()"
   ]
  },
  {
   "cell_type": "code",
   "execution_count": 5,
   "id": "561f305a-7019-44dd-809f-4424008fce5d",
   "metadata": {},
   "outputs": [
    {
     "name": "stdout",
     "output_type": "stream",
     "text": [
      "sum is: -3\n",
      "sum is: 5\n"
     ]
    }
   ],
   "source": [
    "def add_two_no(a,b):\n",
    "    sum=a+b\n",
    "    print(\"sum is:\",sum)\n",
    "add_two_no(2,5)\n",
    "add_two_no(a=10,b=5)\n"
   ]
  },
  {
   "cell_type": "code",
   "execution_count": null,
   "id": "9a0a4a53-fd92-433b-a287-5a0fd77d96a1",
   "metadata": {},
   "outputs": [],
   "source": [
    " def add_two_no(a,b):\n",
    "    sum=a+b\n",
    "    print(\"sum is:\",sum)\n",
    "add_two_no(2,5)\n",
    "add_two_no(a=10,b=5)\n"
   ]
  },
  {
   "cell_type": "code",
   "execution_count": 13,
   "id": "68cceaa7-4201-46dd-88cc-1c58eb4c5a53",
   "metadata": {},
   "outputs": [
    {
     "name": "stdout",
     "output_type": "stream",
     "text": [
      "41.0\n"
     ]
    }
   ],
   "source": [
    "#celcius to fahrenheit\n",
    "def temperature(celcius):\n",
    "    f=(9/5*celcius)+32\n",
    "    print(f)\n",
    "temperature(5)\n",
    "\n"
   ]
  },
  {
   "cell_type": "code",
   "execution_count": 14,
   "id": "8e506954-019e-4844-865d-4f229b31403f",
   "metadata": {},
   "outputs": [
    {
     "data": {
      "text/plain": [
       "'nisha'"
      ]
     },
     "execution_count": 14,
     "metadata": {},
     "output_type": "execute_result"
    }
   ],
   "source": [
    "class Student:\n",
    "    name=\"nisha\"\n",
    "p1=Student()\n",
    "p1.name"
   ]
  },
  {
   "cell_type": "code",
   "execution_count": 15,
   "id": "265bdfc5-38d1-4c21-a290-1df7550d27fa",
   "metadata": {},
   "outputs": [
    {
     "name": "stdout",
     "output_type": "stream",
     "text": [
      "<__main__.Student object at 0x000001C879F76510>\n"
     ]
    }
   ],
   "source": [
    "class Student:\n",
    "    name=\"nisha\"\n",
    "p1=Student()\n",
    "print(p1)"
   ]
  },
  {
   "cell_type": "code",
   "execution_count": 18,
   "id": "0eadd93c-1efe-4e8a-92a3-84013add1f22",
   "metadata": {},
   "outputs": [
    {
     "data": {
      "text/plain": [
       "'blue'"
      ]
     },
     "execution_count": 18,
     "metadata": {},
     "output_type": "execute_result"
    }
   ],
   "source": [
    "class car:\n",
    "    color=\"blue\"\n",
    "p1=car()\n",
    "p1.color"
   ]
  },
  {
   "cell_type": "code",
   "execution_count": 4,
   "id": "50921a04-baef-4d31-8434-5c71df077d99",
   "metadata": {},
   "outputs": [
    {
     "name": "stdout",
     "output_type": "stream",
     "text": [
      "25\n"
     ]
    }
   ],
   "source": [
    "#superefunction\n",
    "class Rectangle:\n",
    "    def __init__(self,l,w):\n",
    "        self.length=l\n",
    "        self.width=w\n",
    "    def area(self):\n",
    "        return self.length*self.width\n",
    "    def perimeter(self):\n",
    "        return 2*self.length+2*self.width\n",
    "class square(Rectangle):\n",
    "    def __init__(self,length):\n",
    "        super().__init__(length,length)\n",
    "\n",
    "ob1=square(5)\n",
    "print(ob1.area())\n",
    "    "
   ]
  },
  {
   "cell_type": "code",
   "execution_count": 8,
   "id": "f739e1bf-b9d4-43bf-b99b-d49ffd3346ca",
   "metadata": {},
   "outputs": [
    {
     "name": "stdout",
     "output_type": "stream",
     "text": [
      "this method is in parent class\n",
      "this method is in child1\n"
     ]
    }
   ],
   "source": [
    "#hierarchical inheritance\n",
    "class Parent:\n",
    "    def meth1(self):\n",
    "        print(\"this method is in parent class\")\n",
    "class Child1(Parent):\n",
    "    def meth2(self):\n",
    "        print(\"this method is in child1\")\n",
    "class Child2(Parent):\n",
    "    def meth3(self):\n",
    "        print(\"this method is in child2\")\n",
    "ob1=Child1()\n",
    "ob1.meth1()\n",
    "ob1.meth2()\n",
    "\n",
    "\n",
    "\n",
    "\n"
   ]
  },
  {
   "cell_type": "code",
   "execution_count": 21,
   "id": "a3e4ac22-9a1f-4829-afae-8fff9b935bbc",
   "metadata": {},
   "outputs": [
    {
     "name": "stdout",
     "output_type": "stream",
     "text": [
      "name is nisha\n",
      " age is19\n",
      "qual isbtech\n",
      " gender is f\n",
      "name is nishu\n",
      " age is19\n",
      "roll is23443\n",
      " branch is cse\n"
     ]
    }
   ],
   "source": [
    "class Person:\n",
    "    def __init__(self,name,age):\n",
    "        self.name=name\n",
    "        self.age=age\n",
    "    def display(self):\n",
    "        print(f\"name is {self.name}\\n age is{self.age}\")\n",
    "class teacher(Person):\n",
    "    def __init__(self,name,age,qual,gender):\n",
    "        super().__init__(name,age)\n",
    "        self.qual=qual\n",
    "        self.gender=gender\n",
    "    def displaytd(self):\n",
    "        print(f\"qual is{self.qual}\\n gender is {self.gender}\")\n",
    "class student(Person):\n",
    "    def __init__(self,name,age,roll,branch):\n",
    "        super().__init__(name,age)\n",
    "        self.roll=roll\n",
    "        self.branch=branch\n",
    "    def displaysd(self):\n",
    "        print(f\"roll is{self.roll}\\n branch is {self.branch}\")\n",
    "t1=teacher(\"nisha\",19,\"btech\",'f')\n",
    "t1.display()\n",
    "t1.displaytd()\n",
    "t2=student(\"nishu\",19,23443,\"cse\")\n",
    "t2.display()\n",
    "t2.displaysd()\n",
    "\n",
    "    "
   ]
  },
  {
   "cell_type": "code",
   "execution_count": 13,
   "id": "aa4406fe-37c8-4ab3-a4d9-9d35970fb0c2",
   "metadata": {},
   "outputs": [
    {
     "name": "stdout",
     "output_type": "stream",
     "text": [
      "roll no: 1\n",
      "name: kittu\n",
      "marks1: 20\n",
      "marks2: 30\n",
      "marks3: 40\n",
      "total marks: 90\n"
     ]
    }
   ],
   "source": [
    "#multi level inheritance\n",
    "class student:\n",
    "    def set_student_details(self,roll,name):\n",
    "        self.roll=roll\n",
    "        self.name=name\n",
    "    def display_student_details(self):\n",
    "        print(\"roll no:\",self.roll)\n",
    "        print(\"name:\",self.name)\n",
    "class Marks(student):\n",
    "    def setmarks(self,m1,m2,m3):\n",
    "        self.m1=m1\n",
    "        self.m2=m2\n",
    "        self.m3=m3\n",
    "    def display_marks(self):\n",
    "        print(\"marks1:\",self.m1)\n",
    "        print(\"marks2:\",self.m2)\n",
    "        print(\"marks3:\",self.m3)\n",
    "class result(Marks):\n",
    "    def caltotal(self):\n",
    "        self.total=self.m1+self.m2+self.m3\n",
    "    def display_result(self):\n",
    "        print(\"total marks:\",self.total)\n",
    "re=result()\n",
    "re.set_student_details(1,\"kittu\")\n",
    "re.setmarks(20,30,40)\n",
    "re.display_student_details()\n",
    "re.display_marks()\n",
    "re.caltotal()\n",
    "re.display_result()\n",
    "\n",
    "\n",
    "    \n",
    "    \n",
    "    \n",
    "    "
   ]
  },
  {
   "cell_type": "code",
   "execution_count": 17,
   "id": "25ac8c42-67da-4972-ad39-d22a1ded1e14",
   "metadata": {},
   "outputs": [
    {
     "name": "stdout",
     "output_type": "stream",
     "text": [
      "roll no: 2434354667767776\n",
      "name: kittu\n",
      "marks1: 20\n",
      "marks2: 30\n",
      "marks3: 40\n",
      "total marks: 90\n"
     ]
    }
   ],
   "source": [
    "#multiple inheritance\n",
    "class student:\n",
    "    def set_student_details(self,roll,name):\n",
    "        self.roll=roll\n",
    "        self.name=name\n",
    "    def display_student_details(self):\n",
    "        print(\"roll no:\",self.roll)\n",
    "        print(\"name:\",self.name)\n",
    "class Marks:\n",
    "    def setmarks(self,m1,m2,m3):\n",
    "        self.m1=m1\n",
    "        self.m2=m2\n",
    "        self.m3=m3\n",
    "    def display_marks(self):\n",
    "        print(\"marks1:\",self.m1)\n",
    "        print(\"marks2:\",self.m2)\n",
    "        print(\"marks3:\",self.m3)\n",
    "class result(student,Marks):\n",
    "    def caltotal(self):\n",
    "        self.total=self.m1+self.m2+self.m3\n",
    "    def display_result(self):\n",
    "        print(\"total marks:\",self.total)\n",
    "re=result()\n",
    "re.set_student_details(2434354667767776,\"kittu\")\n",
    "re.setmarks(20,30,40)\n",
    "re.display_student_details()\n",
    "re.display_marks()\n",
    "re.caltotal()\n",
    "re.display_result()\n"
   ]
  },
  {
   "cell_type": "code",
   "execution_count": null,
   "id": "dafbc4e7-276c-4b5c-9f5a-f9c3aa978a2a",
   "metadata": {},
   "outputs": [],
   "source": [
    "#hybrid inheritence\n",
    "class student:\n",
    "    def set_student_details(self,roll,name):\n",
    "        self.roll=roll\n",
    "        self.name=name\n",
    "    def display_student_details(self):\n",
    "        print(\"roll no:\",self.roll)\n",
    "        print(\"name:\",self.name)\n",
    "class Marks:\n",
    "    def setmarks(self,m1,m2,m3):\n",
    "        self.m1=m1\n",
    "        self.m2=m2\n",
    "        self.m3=m3\n",
    "    def display_marks(self):\n",
    "        print(\"marks1:\",self.m1)\n",
    "        print(\"marks2:\",self.m2)\n",
    "        print(\"marks3:\",self.m3)\n",
    "class result(student,Marks):\n",
    "    def caltotal(self):\n",
    "        self.total=self.m1+self.m2+self.m3\n",
    "    def display_result(self):\n",
    "        print(\"total marks:\",self.total)\n",
    "re=result()\n",
    "re.set_student_details(2434354667767776,\"kittu\")\n",
    "re.setmarks(20,30,40)\n",
    "re.display_student_details()\n",
    "re.display_marks()\n",
    "re.caltotal()\n",
    "re.display_result()\n",
    "\n"
   ]
  },
  {
   "cell_type": "code",
   "execution_count": null,
   "id": "64a90b97-1a66-4743-8c92-0dc35083f4c5",
   "metadata": {},
   "outputs": [],
   "source": [
    "#wap that extends the class employee.derive two classes manager and team leader from employee class.display all the details\n",
    "#of the employee working under a particular manager and team leader\n",
    "class Employee:\n",
    "    def employee_details(self,name,age):\n",
    "        self.name=name\n",
    "        self.age=age\n",
    "    def display_ed(self):\n",
    "        print(\"name of employee is:\",self.name)\n",
    "        print(\"age of employee is:\",self.age)\n",
    "        \n",
    "class Manager:\n",
    "     def Manager_details(self,name1,age1):\n",
    "        self.name1=name1\n",
    "        self.age1=age1\n",
    "    def display_md(self):\n",
    "        print(\"name of manager is:\",self.name1)\n",
    "        print(\"age of manager is:\",self.age1)\n",
    "        \n",
    "class Team_leader:\n",
    "    def Team_leader_details(self,name2,age2):\n",
    "        self.name2=name2\n",
    "        self.age2=age2\n",
    "    def display_tld(self):\n",
    "        print(\"name of team leadser is:\",self.name2)\n",
    "        print(\"age of employee is:\",self.age2)\n",
    "\n",
    "\n",
    "\n",
    "    "
   ]
  },
  {
   "cell_type": "code",
   "execution_count": null,
   "id": "8ee1862c-bcda-46dc-a545-a3e2c369a34a",
   "metadata": {},
   "outputs": [],
   "source": [
    "class A:\n",
    "    def learn(self):\n",
    "        print(\"this is method 1 in class A\")\n",
    "class B(A):\n",
    "    def learn(self):\n",
    "        print(\"this is method 2 in class B\")\n",
    "class C(A):\n",
    "    def learn(self):\n",
    "        print(\"this is method 3 in class C\")\n",
    "class D(C,B)\n",
    "        "
   ]
  }
 ],
 "metadata": {
  "kernelspec": {
   "display_name": "Python 3 (ipykernel)",
   "language": "python",
   "name": "python3"
  },
  "language_info": {
   "codemirror_mode": {
    "name": "ipython",
    "version": 3
   },
   "file_extension": ".py",
   "mimetype": "text/x-python",
   "name": "python",
   "nbconvert_exporter": "python",
   "pygments_lexer": "ipython3",
   "version": "3.13.4"
  }
 },
 "nbformat": 4,
 "nbformat_minor": 5
}
