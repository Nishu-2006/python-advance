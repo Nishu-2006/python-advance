{
 "cells": [
  {
   "cell_type": "code",
   "execution_count": null,
   "id": "109b7bce-3236-4011-94ef-ac0b7ffafed6",
   "metadata": {},
   "outputs": [],
   "source": [
    "#write a program of allotment of electric sub after validity the available choices\n",
    "class Choice:\n",
    "    def __init__(self,n,r,subject):\n",
    "        self.name=n\n",
    "        self.roll=r\n",
    "        self.subject=subject\n",
    "    def display(self):\n",
    "        print(\"-------Student information-------\")\n",
    "        print(\"name of student:\",self.name)\n",
    "        print(\"roll no of student:\",self.roll)\n",
    "        print(\"subject is alloted:\",self.subject)\n",
    "    @staticmethod\n",
    "    def validate_subject(subject,x):\n",
    "        if x in subject:\n",
    "            print(\"option available\")\n",
    "            return True\n",
    "        else:\n",
    "            print(\"option not available\")\n",
    "            return False\n",
    "    subject=[\"tafl\",\"ds\",\"coa\",\"dld\"]\n",
    "sub=input(\"enter the subject of your choice:\")\n",
    "if Choice.validate_subject(subject,sub):\n",
    "    name=input(\"enter your name:\")\n",
    "    roll=int(input(\"enter your roll no:\"))\n",
    "    c=choice(name,roll,sub)\n",
    "    c.display()\n",
    "\n",
    "    \n",
    "            \n",
    " "
   ]
  },
  {
   "cell_type": "code",
   "execution_count": null,
   "id": "3f3807d2-3e24-4ebd-8ee6-bc7cd9d6b9c8",
   "metadata": {},
   "outputs": [],
   "source": [
    "class Choice:\n",
    "    def __init__(self,n,r,subject):\n",
    "        self.name=n\n",
    "        self.roll=r\n",
    "        self.subject=subject\n",
    "    def display(self):\n",
    "        print(\"-------Student information-------\")\n",
    "        print(\"name of student:\",self.name)\n",
    "        print(\"roll no of student:\",self.roll)\n",
    "        print(\"subject is alloted:\",self.subject)\n",
    "    @staticmethod\n",
    "    def validate_subject(subject,x):\n",
    "        if x in subject:\n",
    "            print(\"option available\")\n",
    "            return True\n",
    "        else:\n",
    "            print(\"option not available\")\n",
    "            return False\n",
    "    subject=[\"tafl\",\"ds\",\"coa\",\"dld\"]\n",
    "sub=input(\"enter the subject of your choice:\")\n",
    "if Choice.validate_subject(subject,sub):\n",
    "    name=input(\"enter your name:\")\n",
    "    roll=int(input(\"enter your roll no:\"))\n",
    "    c=choice(name,roll,sub)\n",
    "    c.display()\n",
    "\n",
    "    \n",
    "            \n",
    " "
   ]
  },
  {
   "cell_type": "code",
   "execution_count": null,
   "id": "b3a0c72d-b2ae-4295-b624-1ec2c4b1e58e",
   "metadata": {},
   "outputs": [],
   "source": []
  }
 ],
 "metadata": {
  "kernelspec": {
   "display_name": "Python 3 (ipykernel)",
   "language": "python",
   "name": "python3"
  },
  "language_info": {
   "codemirror_mode": {
    "name": "ipython",
    "version": 3
   },
   "file_extension": ".py",
   "mimetype": "text/x-python",
   "name": "python",
   "nbconvert_exporter": "python",
   "pygments_lexer": "ipython3",
   "version": "3.13.4"
  }
 },
 "nbformat": 4,
 "nbformat_minor": 5
}
