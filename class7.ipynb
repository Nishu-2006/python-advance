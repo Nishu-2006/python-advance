{
 "cells": [
  {
   "cell_type": "code",
   "execution_count": 2,
   "id": "e42db4ea-ba3b-47aa-b238-93453757bf78",
   "metadata": {},
   "outputs": [
    {
     "name": "stdout",
     "output_type": "stream",
     "text": [
      "name: xyz\n",
      "rollno: 103\n",
      "name: xyz\n",
      "branch: cse\n"
     ]
    }
   ],
   "source": [
    "class student:\n",
    "    _name=None\n",
    "    _rollno=None\n",
    "    _branch=None\n",
    "    def __init__(self,name,rollno,branch):\n",
    "        self._name=name\n",
    "        self._rollno=rollno\n",
    "        self._branch=branch\n",
    "    def display_info(self):\n",
    "        print(\"rollno:\",self._rollno)\n",
    "        print(\"name:\",self._name)\n",
    "        print(\"branch:\",self._branch)\n",
    "class NIET(student):\n",
    "    def __init__(self,name,rollno,branch):\n",
    "        student.__init__(self,name,rollno,branch)\n",
    "    def display(self):\n",
    "        print(\"name:\",self._name)\n",
    "        self.display_info()\n",
    "N=NIET('xyz',103,'cse')\n",
    "N.display()"
   ]
  },
  {
   "cell_type": "markdown",
   "id": "abc8abd2-ef88-437d-b7e7-420530e29144",
   "metadata": {},
   "source": [
    "iterator in python\n",
    "definition:an iteration is an object that contains a sequence or countable values that can be tranverse upon.\n",
    "it is the object that is used to iterate over iterable objects like-lists,tuple,dict,sets etc.\n",
    "\n",
    "iterable- iterable are objects that act as iterables container to get the iterator.\n",
    "\n",
    "--Anything that you can loop over in python is called an iterable\n",
    "\n",
    "--for an object to be considered an iterable,it must have iter()method.\n",
    "\n",
    "\n",
    "🍒iterator protocol......\n",
    "the iterator objects are required to support the following two methods ,which together form the iterator protocol:\n",
    "\n",
    "1. iterator.iter(): returns the iterator objects itself. this is required to allow both container and iterator to be used with 'for' and 'in' statements.(present in iterables)\n",
    "\n",
    "2. iterator.next(): return the next item from the container if there are no more items,raise the stopiteraation exception.(present in iterator)\n",
    "\n",
    "\n"
   ]
  },
  {
   "cell_type": "code",
   "execution_count": 4,
   "id": "2e584091-5400-4333-aade-272b73148c34",
   "metadata": {},
   "outputs": [
    {
     "name": "stdout",
     "output_type": "stream",
     "text": [
      "['__add__', '__class__', '__class_getitem__', '__contains__', '__delattr__', '__delitem__', '__dir__', '__doc__', '__eq__', '__format__', '__ge__', '__getattribute__', '__getitem__', '__getstate__', '__gt__', '__hash__', '__iadd__', '__imul__', '__init__', '__init_subclass__', '__iter__', '__le__', '__len__', '__lt__', '__mul__', '__ne__', '__new__', '__reduce__', '__reduce_ex__', '__repr__', '__reversed__', '__rmul__', '__setattr__', '__setitem__', '__sizeof__', '__str__', '__subclasshook__', 'append', 'clear', 'copy', 'count', 'extend', 'index', 'insert', 'pop', 'remove', 'reverse', 'sort']\n"
     ]
    }
   ],
   "source": [
    "A=[1,2,3,4,5]\n",
    "print(dir(A))"
   ]
  },
  {
   "cell_type": "code",
   "execution_count": 5,
   "id": "506c91ed-eaeb-44ce-b38a-70deea988de6",
   "metadata": {},
   "outputs": [
    {
     "name": "stdout",
     "output_type": "stream",
     "text": [
      "['__abs__', '__add__', '__and__', '__bool__', '__ceil__', '__class__', '__delattr__', '__dir__', '__divmod__', '__doc__', '__eq__', '__float__', '__floor__', '__floordiv__', '__format__', '__ge__', '__getattribute__', '__getnewargs__', '__getstate__', '__gt__', '__hash__', '__index__', '__init__', '__init_subclass__', '__int__', '__invert__', '__le__', '__lshift__', '__lt__', '__mod__', '__mul__', '__ne__', '__neg__', '__new__', '__or__', '__pos__', '__pow__', '__radd__', '__rand__', '__rdivmod__', '__reduce__', '__reduce_ex__', '__repr__', '__rfloordiv__', '__rlshift__', '__rmod__', '__rmul__', '__ror__', '__round__', '__rpow__', '__rrshift__', '__rshift__', '__rsub__', '__rtruediv__', '__rxor__', '__setattr__', '__sizeof__', '__str__', '__sub__', '__subclasshook__', '__truediv__', '__trunc__', '__xor__', 'as_integer_ratio', 'bit_count', 'bit_length', 'conjugate', 'denominator', 'from_bytes', 'imag', 'is_integer', 'numerator', 'real', 'to_bytes']\n"
     ]
    }
   ],
   "source": [
    "x=10\n",
    "print(dir(x))"
   ]
  },
  {
   "cell_type": "code",
   "execution_count": 6,
   "id": "600f9d51-07be-4d66-9c17-853f2e563846",
   "metadata": {},
   "outputs": [
    {
     "name": "stdout",
     "output_type": "stream",
     "text": [
      "['__class__', '__delattr__', '__dir__', '__doc__', '__eq__', '__format__', '__ge__', '__getattribute__', '__getstate__', '__gt__', '__hash__', '__init__', '__init_subclass__', '__iter__', '__le__', '__length_hint__', '__lt__', '__ne__', '__new__', '__next__', '__reduce__', '__reduce_ex__', '__repr__', '__setattr__', '__setstate__', '__sizeof__', '__str__', '__subclasshook__']\n"
     ]
    }
   ],
   "source": [
    "A=[1,2,3,4,5]\n",
    "value=A.__iter__()\n",
    "print(dir(value))"
   ]
  },
  {
   "cell_type": "markdown",
   "id": "58da7261-5d13-49bb-b703-89174d1287d6",
   "metadata": {},
   "source": [
    "🌺sequence: string,lists,tuples\n",
    "🌺iterables: dictionary,sets,files,objects\n",
    "\n",
    "\n",
    "\n",
    "iter() and next() methods in python:\n",
    ".iter():syntax: iter(object,sentinel)\n",
    "-iter() function creates an object which can be iterated one element at a time.\n",
    "\n",
    "object-> object whose iterates has  to be created (tuple,lists,etc)\n",
    "\n",
    "sentinel(optinal)--> special value that used to represent at the end of sequence.\n"
   ]
  },
  {
   "cell_type": "code",
   "execution_count": 7,
   "id": "6a314e05-0823-461f-87c0-836f9dff2d32",
   "metadata": {},
   "outputs": [
    {
     "name": "stdout",
     "output_type": "stream",
     "text": [
      "<list_iterator object at 0x0000028E9A265150>\n",
      "['__add__', '__class__', '__class_getitem__', '__contains__', '__delattr__', '__delitem__', '__dir__', '__doc__', '__eq__', '__format__', '__ge__', '__getattribute__', '__getitem__', '__getstate__', '__gt__', '__hash__', '__iadd__', '__imul__', '__init__', '__init_subclass__', '__iter__', '__le__', '__len__', '__lt__', '__mul__', '__ne__', '__new__', '__reduce__', '__reduce_ex__', '__repr__', '__reversed__', '__rmul__', '__setattr__', '__setitem__', '__sizeof__', '__str__', '__subclasshook__', 'append', 'clear', 'copy', 'count', 'extend', 'index', 'insert', 'pop', 'remove', 'reverse', 'sort']\n",
      "['__class__', '__delattr__', '__dir__', '__doc__', '__eq__', '__format__', '__ge__', '__getattribute__', '__getstate__', '__gt__', '__hash__', '__init__', '__init_subclass__', '__iter__', '__le__', '__length_hint__', '__lt__', '__ne__', '__new__', '__next__', '__reduce__', '__reduce_ex__', '__repr__', '__setattr__', '__setstate__', '__sizeof__', '__str__', '__subclasshook__']\n"
     ]
    }
   ],
   "source": [
    "x=[1,2,3,4,5,6,7,8]\n",
    "value=x.__iter__()\n",
    "print(value)\n",
    "print(dir(x))\n",
    "print(dir(value))"
   ]
  },
  {
   "cell_type": "code",
   "execution_count": 8,
   "id": "fb9f10cb-4bd6-4167-983b-0e2636d8e8cf",
   "metadata": {},
   "outputs": [
    {
     "name": "stdout",
     "output_type": "stream",
     "text": [
      "1\n",
      "2\n",
      "3\n",
      "4\n"
     ]
    },
    {
     "ename": "StopIteration",
     "evalue": "",
     "output_type": "error",
     "traceback": [
      "\u001b[31m---------------------------------------------------------------------------\u001b[39m",
      "\u001b[31mStopIteration\u001b[39m                             Traceback (most recent call last)",
      "\u001b[36mCell\u001b[39m\u001b[36m \u001b[39m\u001b[32mIn[8]\u001b[39m\u001b[32m, line 11\u001b[39m\n\u001b[32m      9\u001b[39m item4=value.\u001b[34m__next__\u001b[39m()\n\u001b[32m     10\u001b[39m \u001b[38;5;28mprint\u001b[39m(item4)\n\u001b[32m---> \u001b[39m\u001b[32m11\u001b[39m item5=\u001b[43mvalue\u001b[49m\u001b[43m.\u001b[49m\u001b[34;43m__next__\u001b[39;49m\u001b[43m(\u001b[49m\u001b[43m)\u001b[49m\n\u001b[32m     12\u001b[39m \u001b[38;5;28mprint\u001b[39m(item5)\n",
      "\u001b[31mStopIteration\u001b[39m: "
     ]
    }
   ],
   "source": [
    "x=[1,2,3,4]\n",
    "value=x.__iter__()\n",
    "item1=value.__next__()\n",
    "print(item1)\n",
    "item2=value.__next__()\n",
    "print(item2)\n",
    "item3=value.__next__()\n",
    "print(item3)\n",
    "item4=value.__next__()\n",
    "print(item4)\n",
    "item5=value.__next__()\n",
    "print(item5)\n"
   ]
  },
  {
   "cell_type": "code",
   "execution_count": 9,
   "id": "a370878a-9868-4db8-83af-6aaa03b39bd3",
   "metadata": {},
   "outputs": [
    {
     "name": "stdout",
     "output_type": "stream",
     "text": [
      "1\n"
     ]
    }
   ],
   "source": [
    "numbers=[1,2,3,4]\n",
    "value=iter(numbers)\n",
    "item1=next(value)\n",
    "print(item1)"
   ]
  },
  {
   "cell_type": "code",
   "execution_count": 12,
   "id": "fffb700e-b628-4e44-8463-7ddf9d77fa6b",
   "metadata": {},
   "outputs": [
    {
     "name": "stdout",
     "output_type": "stream",
     "text": [
      "p\n"
     ]
    }
   ],
   "source": [
    "st=\"python\"\n",
    "it2=iter(st)\n",
    "print(next(it2))"
   ]
  },
  {
   "cell_type": "code",
   "execution_count": 18,
   "id": "da0c73a5-60e5-4f00-8388-e9f3c8cbe659",
   "metadata": {},
   "outputs": [
    {
     "name": "stdout",
     "output_type": "stream",
     "text": [
      "1\n",
      "2\n",
      "3\n",
      "4\n",
      "5\n"
     ]
    }
   ],
   "source": [
    "#customise for_loop:\n",
    "def customize_for_loop(iterable,action):\n",
    "    iterator=iter(iterable)\n",
    "    done_looping=False\n",
    "    while not done_looping:\n",
    "        try:\n",
    "            item=next(iterator)\n",
    "        except StopIteration:\n",
    "            done_looping=True\n",
    "        else:\n",
    "            action(item)\n",
    "numbers=[1,2,3,4,5]\n",
    "customize_for_loop(numbers,print)\n"
   ]
  },
  {
   "cell_type": "code",
   "execution_count": null,
   "id": "9fde7558-418e-4b70-a428-310e2d4b9b3b",
   "metadata": {},
   "outputs": [],
   "source": []
  }
 ],
 "metadata": {
  "kernelspec": {
   "display_name": "Python 3 (ipykernel)",
   "language": "python",
   "name": "python3"
  },
  "language_info": {
   "codemirror_mode": {
    "name": "ipython",
    "version": 3
   },
   "file_extension": ".py",
   "mimetype": "text/x-python",
   "name": "python",
   "nbconvert_exporter": "python",
   "pygments_lexer": "ipython3",
   "version": "3.13.4"
  }
 },
 "nbformat": 4,
 "nbformat_minor": 5
}
