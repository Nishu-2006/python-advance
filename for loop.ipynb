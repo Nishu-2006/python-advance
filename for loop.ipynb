{
 "cells": [
  {
   "cell_type": "code",
   "execution_count": 10,
   "id": "d7a859f9-8346-4549-8ac8-12cd484e6f71",
   "metadata": {},
   "outputs": [
    {
     "name": "stdout",
     "output_type": "stream",
     "text": [
      "bandar🐵🐒\n",
      "bandar🐵🐒\n",
      "bandar🐵🐒\n",
      "bandar🐵🐒\n",
      "bandar🐵🐒\n",
      "bandar🐵🐒\n",
      "bandar🐵🐒\n",
      "bandar🐵🐒\n",
      "bandar🐵🐒\n",
      "bandar🐵🐒\n"
     ]
    }
   ],
   "source": [
    "i=1\n",
    "while i<=10:\n",
    "    print(\"bandar🐵🐒\")\n",
    "    i+=1"
   ]
  },
  {
   "cell_type": "code",
   "execution_count": 3,
   "id": "b034f88c-8cce-4f21-9ba8-ebe08cd6dd57",
   "metadata": {},
   "outputs": [
    {
     "name": "stdout",
     "output_type": "stream",
     "text": [
      "1\n",
      "2\n",
      "3\n",
      "4\n",
      "5\n",
      "6\n",
      "7\n",
      "8\n",
      "9\n",
      "10\n"
     ]
    }
   ],
   "source": [
    "i=1\n",
    "while i<=10:\n",
    "    print(i)\n",
    "    i+=1"
   ]
  },
  {
   "cell_type": "code",
   "execution_count": 7,
   "id": "f033ffee-14b1-4b83-b3d1-1faf53d0c52d",
   "metadata": {},
   "outputs": [
    {
     "name": "stdout",
     "output_type": "stream",
     "text": [
      "10\n",
      "9\n",
      "8\n",
      "7\n",
      "6\n",
      "5\n",
      "4\n",
      "3\n",
      "2\n",
      "1\n"
     ]
    }
   ],
   "source": [
    "i=10\n",
    "while i>=1:\n",
    "    print(i)\n",
    "    i-=1\n"
   ]
  },
  {
   "cell_type": "code",
   "execution_count": null,
   "id": "7ce7c642-1f33-4840-b09a-9cf56902cb5b",
   "metadata": {},
   "outputs": [],
   "source": [
    "n=int(input(\"enter n\"))\n",
    "i=1\n",
    "while i<=10:\n",
    "    print(n*i)\n",
    "    i+=1"
   ]
  },
  {
   "cell_type": "code",
   "execution_count": null,
   "id": "b4625d5f-7b8c-4e0a-a292-689bb38604c2",
   "metadata": {},
   "outputs": [],
   "source": [
    "n=int(input(\"enter n\"))\n",
    "i=1\n",
    "while i<=10:\n",
    "    print(n*i)\n",
    "    i+=1"
   ]
  },
  {
   "cell_type": "code",
   "execution_count": null,
   "id": "adc1fa96-30c0-422e-aa75-3a9c02d71579",
   "metadata": {},
   "outputs": [],
   "source": []
  }
 ],
 "metadata": {
  "kernelspec": {
   "display_name": "Python 3 (ipykernel)",
   "language": "python",
   "name": "python3"
  },
  "language_info": {
   "codemirror_mode": {
    "name": "ipython",
    "version": 3
   },
   "file_extension": ".py",
   "mimetype": "text/x-python",
   "name": "python",
   "nbconvert_exporter": "python",
   "pygments_lexer": "ipython3",
   "version": "3.13.4"
  }
 },
 "nbformat": 4,
 "nbformat_minor": 5
}
