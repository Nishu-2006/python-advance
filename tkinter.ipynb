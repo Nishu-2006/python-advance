{
 "cells": [
  {
   "cell_type": "code",
   "execution_count": null,
   "id": "664eca73-edd6-4a4d-b6b4-4c001f85f52c",
   "metadata": {},
   "outputs": [],
   "source": [
    "#GUI\n",
    "from tkinter import *"
   ]
  },
  {
   "cell_type": "code",
   "execution_count": 1,
   "id": "85b8586a-3331-4702-9ade-09d522d2c877",
   "metadata": {},
   "outputs": [],
   "source": [
    "#cretion of windows\n",
    "from tkinter import Tk\n",
    "root=Tk()\n",
    "root.mainloop()\n",
    "## Tk() is the class which is used to create the root windows of the application\n"
   ]
  },
  {
   "cell_type": "code",
   "execution_count": 8,
   "id": "f7eaaf35-0685-4171-9088-275a75d7b88f",
   "metadata": {},
   "outputs": [],
   "source": [
    "#To set the Title of your mainwindow\n",
    "from tkinter import Tk\n",
    "root=Tk()\n",
    "root.title(\"nisha\")\n",
    "root.mainloop()"
   ]
  },
  {
   "cell_type": "code",
   "execution_count": 7,
   "id": "b0e69a56-e640-4896-83ab-540915c60051",
   "metadata": {},
   "outputs": [
    {
     "name": "stdout",
     "output_type": "stream",
     "text": [
      "screen width: 1536\n",
      "screen height: 864\n"
     ]
    }
   ],
   "source": [
    "#TO check the screen size\n",
    "from tkinter import Tk\n",
    "root=Tk()\n",
    "screen_width=root.winfo_screenwidth()\n",
    "screen_height=root.winfo_screenheight()\n",
    "print(\"screen width:\",screen_width)\n",
    "print(\"screen height:\",screen_height)\n"
   ]
  },
  {
   "cell_type": "code",
   "execution_count": 10,
   "id": "7722bd16-731c-475b-906d-c084e000c47f",
   "metadata": {},
   "outputs": [],
   "source": [
    "#To make window full screen\n",
    "from tkinter import Tk\n",
    "root=Tk()\n",
    "root.attributes('-fullscreen',True)\n",
    "root.mainloop()"
   ]
  },
  {
   "cell_type": "code",
   "execution_count": 13,
   "id": "193c8916-bf8e-40b9-8e8a-ea632f639000",
   "metadata": {},
   "outputs": [],
   "source": [
    "#To raise window\n",
    "from tkinter import Tk\n",
    "root=Tk()\n",
    "root.geometry(\"420x500+200+200\")\n",
    "root.mainloop()\n",
    "#make the window 420x500 and place at position (200,200)"
   ]
  },
  {
   "cell_type": "code",
   "execution_count": 12,
   "id": "5cfa6d01-a8bd-4152-8650-68f7d8490220",
   "metadata": {},
   "outputs": [],
   "source": [
    "#to create label as a child root of the window\n",
    "from tkinter import Tk,Label\n",
    "root=Tk()\n",
    "msg=Label(root,text=\"nisha raghav\")\n",
    "msg.pack()\n",
    "root.mainloop()"
   ]
  },
  {
   "cell_type": "code",
   "execution_count": 18,
   "id": "26944827-43bb-47e4-9f8f-a09805419547",
   "metadata": {},
   "outputs": [],
   "source": [
    "#To modify font\n",
    "from tkinter import *\n",
    "root=Tk()\n",
    "msg=Label(root,text=\"my name is nisha\")\n",
    "msg.config(font=('algerian',1000,'italic bold underline'))\n",
    "msg.pack()\n",
    "root.mainloop()"
   ]
  },
  {
   "cell_type": "code",
   "execution_count": 23,
   "id": "cc9f93c2-2f12-4393-8faf-aef623c71475",
   "metadata": {},
   "outputs": [],
   "source": [
    "#to display two different labels with colored background\n",
    "from tkinter import *\n",
    "root=Tk()\n",
    "Label1=Label(root,text=\"my name is nisha\",background='blue')\n",
    "Label2=Label(root,text=\"my name is nishu\",background='red')\n",
    "Label1.pack()\n",
    "Label2.pack()\n",
    "root.mainloop()\n"
   ]
  },
  {
   "cell_type": "markdown",
   "id": "03df15a6-d901-4876-97d9-eeb5378d6120",
   "metadata": {},
   "source": [
    "1.fill : Widget expands to take up any extra space(x,y or both)\n",
    "2.Pad x/Pad y: outter Padding\n",
    "3.ipadx/ipady:inner padding\n",
    "4.side: which side to stack from.\n",
    "       Default is top (to bottom)\n",
    "\n",
    "\n"
   ]
  },
  {
   "cell_type": "code",
   "execution_count": 34,
   "id": "80f63091-d759-45db-8a73-2493cdcfe634",
   "metadata": {},
   "outputs": [],
   "source": [
    "from tkinter import *\n",
    "root=Tk()\n",
    "Label1=Label(root,text=\"nisha raghav\",background='blue')\n",
    "Label2=Label(root,text=\"nishu raghav\",background='red')\n",
    "Label1.pack(fill=Y,padx=10,ipadx=25,side=RIGHT)\n",
    "Label2.pack(fill=Y,padx=20,ipadx=40,side=LEFT)\n",
    "root.mainloop()\n",
    "\n",
    "\n"
   ]
  },
  {
   "cell_type": "code",
   "execution_count": 10,
   "id": "76770393-cc7a-4bb8-ba1e-74117986d2ab",
   "metadata": {},
   "outputs": [
    {
     "ename": "TclError",
     "evalue": "image \"pyimage3\" doesn't exist",
     "output_type": "error",
     "traceback": [
      "\u001b[31m---------------------------------------------------------------------------\u001b[39m",
      "\u001b[31mTclError\u001b[39m                                  Traceback (most recent call last)",
      "\u001b[36mCell\u001b[39m\u001b[36m \u001b[39m\u001b[32mIn[10]\u001b[39m\u001b[32m, line 11\u001b[39m\n\u001b[32m      9\u001b[39m frame.place(anchor=\u001b[33m'\u001b[39m\u001b[33mcenter\u001b[39m\u001b[33m'\u001b[39m,relx=\u001b[32m0.5\u001b[39m,rely=\u001b[32m0.5\u001b[39m)\n\u001b[32m     10\u001b[39m img=ImageTk.PhotoImage(Image.open(\u001b[33mr\u001b[39m\u001b[33m\"\u001b[39m\u001b[33mC:\u001b[39m\u001b[33m\\\u001b[39m\u001b[33mnisha123.jpg\u001b[39m\u001b[33m\"\u001b[39m))\n\u001b[32m---> \u001b[39m\u001b[32m11\u001b[39m label=\u001b[43mLabel\u001b[49m\u001b[43m(\u001b[49m\u001b[43mframe\u001b[49m\u001b[43m,\u001b[49m\u001b[43mimage\u001b[49m\u001b[43m=\u001b[49m\u001b[43mimg\u001b[49m\u001b[43m)\u001b[49m\n\u001b[32m     12\u001b[39m label.pack()\n\u001b[32m     13\u001b[39m win.mainloop()\n",
      "\u001b[36mFile \u001b[39m\u001b[32m~\\AppData\\Local\\Programs\\Python\\Python313\\Lib\\tkinter\\__init__.py:3363\u001b[39m, in \u001b[36mLabel.__init__\u001b[39m\u001b[34m(self, master, cnf, **kw)\u001b[39m\n\u001b[32m   3345\u001b[39m \u001b[38;5;28;01mdef\u001b[39;00m\u001b[38;5;250m \u001b[39m\u001b[34m__init__\u001b[39m(\u001b[38;5;28mself\u001b[39m, master=\u001b[38;5;28;01mNone\u001b[39;00m, cnf={}, **kw):\n\u001b[32m   3346\u001b[39m \u001b[38;5;250m    \u001b[39m\u001b[33;03m\"\"\"Construct a label widget with the parent MASTER.\u001b[39;00m\n\u001b[32m   3347\u001b[39m \n\u001b[32m   3348\u001b[39m \u001b[33;03m    STANDARD OPTIONS\u001b[39;00m\n\u001b[32m   (...)\u001b[39m\u001b[32m   3361\u001b[39m \n\u001b[32m   3362\u001b[39m \u001b[33;03m    \"\"\"\u001b[39;00m\n\u001b[32m-> \u001b[39m\u001b[32m3363\u001b[39m     \u001b[43mWidget\u001b[49m\u001b[43m.\u001b[49m\u001b[34;43m__init__\u001b[39;49m\u001b[43m(\u001b[49m\u001b[38;5;28;43mself\u001b[39;49m\u001b[43m,\u001b[49m\u001b[43m \u001b[49m\u001b[43mmaster\u001b[49m\u001b[43m,\u001b[49m\u001b[43m \u001b[49m\u001b[33;43m'\u001b[39;49m\u001b[33;43mlabel\u001b[39;49m\u001b[33;43m'\u001b[39;49m\u001b[43m,\u001b[49m\u001b[43m \u001b[49m\u001b[43mcnf\u001b[49m\u001b[43m,\u001b[49m\u001b[43m \u001b[49m\u001b[43mkw\u001b[49m\u001b[43m)\u001b[49m\n",
      "\u001b[36mFile \u001b[39m\u001b[32m~\\AppData\\Local\\Programs\\Python\\Python313\\Lib\\tkinter\\__init__.py:2774\u001b[39m, in \u001b[36mBaseWidget.__init__\u001b[39m\u001b[34m(self, master, widgetName, cnf, kw, extra)\u001b[39m\n\u001b[32m   2772\u001b[39m \u001b[38;5;28;01mfor\u001b[39;00m k, v \u001b[38;5;129;01min\u001b[39;00m classes:\n\u001b[32m   2773\u001b[39m     \u001b[38;5;28;01mdel\u001b[39;00m cnf[k]\n\u001b[32m-> \u001b[39m\u001b[32m2774\u001b[39m \u001b[38;5;28;43mself\u001b[39;49m\u001b[43m.\u001b[49m\u001b[43mtk\u001b[49m\u001b[43m.\u001b[49m\u001b[43mcall\u001b[49m\u001b[43m(\u001b[49m\n\u001b[32m   2775\u001b[39m \u001b[43m    \u001b[49m\u001b[43m(\u001b[49m\u001b[43mwidgetName\u001b[49m\u001b[43m,\u001b[49m\u001b[43m \u001b[49m\u001b[38;5;28;43mself\u001b[39;49m\u001b[43m.\u001b[49m\u001b[43m_w\u001b[49m\u001b[43m)\u001b[49m\u001b[43m \u001b[49m\u001b[43m+\u001b[49m\u001b[43m \u001b[49m\u001b[43mextra\u001b[49m\u001b[43m \u001b[49m\u001b[43m+\u001b[49m\u001b[43m \u001b[49m\u001b[38;5;28;43mself\u001b[39;49m\u001b[43m.\u001b[49m\u001b[43m_options\u001b[49m\u001b[43m(\u001b[49m\u001b[43mcnf\u001b[49m\u001b[43m)\u001b[49m\u001b[43m)\u001b[49m\n\u001b[32m   2776\u001b[39m \u001b[38;5;28;01mfor\u001b[39;00m k, v \u001b[38;5;129;01min\u001b[39;00m classes:\n\u001b[32m   2777\u001b[39m     k.configure(\u001b[38;5;28mself\u001b[39m, v)\n",
      "\u001b[31mTclError\u001b[39m: image \"pyimage3\" doesn't exist"
     ]
    }
   ],
   "source": [
    "#to display an image\n",
    "from tkinter import Frame,Tk,Label\n",
    "from PIL import ImageTk,Image\n",
    "win=Tk()\n",
    "win.geometry(\"700x500\")\n",
    "frame=Frame(win,width=600,height=400)\n",
    "\n",
    "frame.pack()\n",
    "frame.place(anchor='center',relx=0.5,rely=0.5)\n",
    "img=ImageTk.PhotoImage(Image.open(r\"C:\\nisha123.jpg\"))\n",
    "label=Label(frame,image=img)\n",
    "label.pack()z\n",
    "win.mainloop()"
   ]
  },
  {
   "cell_type": "code",
   "execution_count": 3,
   "id": "631ab3b2-710c-4d4e-a772-44464b0723fb",
   "metadata": {},
   "outputs": [],
   "source": [
    "#button set\n",
    "from tkinter import Tk,Button\n",
    "root=Tk()\n",
    "exitButton=Button(root,text='Exit',command=root.destroy)\n",
    "exitButton.pack()\n",
    "\n",
    "def My_callback():\n",
    "    print(\"You clicked the message button\")\n",
    "msg_button=Button(root,text='Click Here',command=My_callback)\n",
    "msg_button.pack()\n",
    "root.mainloop()"
   ]
  },
  {
   "cell_type": "code",
   "execution_count": 9,
   "id": "002aa5fa-421c-4ddc-82c8-cb3a0a8fd571",
   "metadata": {},
   "outputs": [],
   "source": [
    "#to display the menu bar\n",
    "from tkinter import Tk,Menu\n",
    "root=Tk()\n",
    "#create Menu bar\n",
    "menu_bar=Menu(root)\n",
    "#create the submenu\n",
    "fileMenu=Menu(menu_bar,tearoff=0)\n",
    "#add command to sub menu\n",
    "fileMenu.add_command(label=\"Stop\",command=root.destroy)\n",
    "fileMenu.add_command(label=\"Kill\",command=root.destroy)\n",
    "fileMenu.add_command(label=\"Exit\",command=root.destroy)\n",
    "#add the file drop down sub menu in the main menu bar\n",
    "menu_bar.add_cascade(label=\"File\",menu=fileMenu)\n",
    "root.config(menu=menu_bar)\n",
    "root.mainloop()\n"
   ]
  },
  {
   "cell_type": "code",
   "execution_count": 23,
   "id": "af4b086e-d706-49d9-891f-39105e9acc29",
   "metadata": {},
   "outputs": [],
   "source": [
    "from tkinter import *\n",
    "\n",
    "# Create the main window\n",
    "window = Tk()\n",
    "window.title(\"Arithmetic Calculator\")\n",
    "window.geometry('800x200')\n",
    "\n",
    "def calculate():\n",
    "    # Get the numbers from the entries\n",
    "    try:\n",
    "        num1 = float(entry1.get())\n",
    "        num2 = float(entry2.get())\n",
    "    except ValueError:\n",
    "        result_label.config(text=\"Please enter valid numbers.\")\n",
    "        return\n",
    "    \n",
    "    # Get the selected operation\n",
    "    operation = operation_var.get()\n",
    "    \n",
    "    # Perform the selected operation\n",
    "    if operation == \"+\":\n",
    "        result = num1 + num2\n",
    "    elif operation == \"-\":\n",
    "        result = num1 - num2\n",
    "    elif operation == \"*\":\n",
    "        result = num1 * num2\n",
    "    elif operation == \"/\":\n",
    "        if num2 == 0:\n",
    "            result_label.config(text=\"Cannot divide by zero.\")\n",
    "            return\n",
    "        result = num1 / num2\n",
    "    else:\n",
    "        result_label.config(text=\"Please select an operation.\")\n",
    "        return\n",
    "    \n",
    "    # Update the result label\n",
    "    result_label.config(text=f\"Result: {result}\")\n",
    "\n",
    "# First number label and entry\n",
    "label1 = Label(window, text=\"Number 1:\")\n",
    "label1.grid(row=0, column=0, padx=10, pady=5)\n",
    "\n",
    "entry1 = Entry(window)\n",
    "entry1.grid(row=0, column=1, padx=10, pady=5)\n",
    "\n",
    "# Second number label and entry\n",
    "label2 = Label(window, text=\"Number 2:\")\n",
    "label2.grid(row=1, column=0, padx=10, pady=5)\n",
    "\n",
    "entry2 = Entry(window)\n",
    "entry2.grid(row=1, column=1, padx=10, pady=5)\n",
    "\n",
    "# Operation label and radio buttons\n",
    "operation_var = StringVar()\n",
    "operation_var.set(\"+\")\n",
    "\n",
    "label3 = Label(window, text=\"Operation:\")\n",
    "label3.grid(row=2, column=0, padx=10, pady=5)\n",
    "\n",
    "operations_frame = Frame(window)\n",
    "operations_frame.grid(row=2, column=1, padx=10, pady=5)\n",
    "\n",
    "radio_add = Radiobutton(operations_frame, text=\"+\", variable=operation_var, value=\"+\")\n",
    "radio_add.pack(side=LEFT)\n",
    "\n",
    "radio_subtract = Radiobutton(operations_frame, text=\"-\", variable=operation_var, value=\"-\")\n",
    "radio_subtract.pack(side=LEFT)\n",
    "\n",
    "radio_multiply = Radiobutton(operations_frame, text=\"*\", variable=operation_var, value=\"*\")\n",
    "radio_multiply.pack(side=LEFT)\n",
    "\n",
    "radio_divide = Radiobutton(operations_frame, text=\"/\", variable=operation_var, value=\"/\")\n",
    "radio_divide.pack(side=LEFT)\n",
    "\n",
    "# Submit button\n",
    "submit_button = Button(window, text=\"Calculate\", command=calculate)\n",
    "submit_button.grid(row=3, column=0, columnspan=2, pady=10)\n",
    "\n",
    "# Label to show the result\n",
    "result_label = Label(window, text=\"Result: \")\n",
    "result_label.grid(row=4, column=0, columnspan=2, pady=5)\n",
    "\n",
    "window.mainloop()"
   ]
  },
  {
   "cell_type": "raw",
   "id": "b46f4e0f-116f-4e9e-ba40-c3af5dc680ef",
   "metadata": {},
   "source": [
    "\n"
   ]
  },
  {
   "cell_type": "code",
   "execution_count": null,
   "id": "5b6d1f40-f659-4a77-971c-91de008057c9",
   "metadata": {},
   "outputs": [],
   "source": []
  }
 ],
 "metadata": {
  "kernelspec": {
   "display_name": "Python 3 (ipykernel)",
   "language": "python",
   "name": "python3"
  },
  "language_info": {
   "codemirror_mode": {
    "name": "ipython",
    "version": 3
   },
   "file_extension": ".py",
   "mimetype": "text/x-python",
   "name": "python",
   "nbconvert_exporter": "python",
   "pygments_lexer": "ipython3",
   "version": "3.13.4"
  }
 },
 "nbformat": 4,
 "nbformat_minor": 5
}
