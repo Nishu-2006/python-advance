{
 "cells": [
  {
   "cell_type": "code",
   "execution_count": 5,
   "id": "1dafc939-412f-43d8-8f53-7ba022a3e439",
   "metadata": {},
   "outputs": [
    {
     "ename": "NameError",
     "evalue": "name 's1' is not defined",
     "output_type": "error",
     "traceback": [
      "\u001b[31m---------------------------------------------------------------------------\u001b[39m",
      "\u001b[31mNameError\u001b[39m                                 Traceback (most recent call last)",
      "\u001b[36mCell\u001b[39m\u001b[36m \u001b[39m\u001b[32mIn[5]\u001b[39m\u001b[32m, line 7\u001b[39m\n\u001b[32m      5\u001b[39m s1=Student(\u001b[33m\"\u001b[39m\u001b[33mnisha\u001b[39m\u001b[33m\"\u001b[39m)\n\u001b[32m      6\u001b[39m \u001b[38;5;28;01mdel\u001b[39;00m s1\n\u001b[32m----> \u001b[39m\u001b[32m7\u001b[39m \u001b[38;5;28mprint\u001b[39m(\u001b[43ms1\u001b[49m)\n",
      "\u001b[31mNameError\u001b[39m: name 's1' is not defined"
     ]
    }
   ],
   "source": [
    "#del function\n",
    "class Student:\n",
    "    def __init__(self,name):\n",
    "        self.name=name\n",
    "\n",
    "s1=Student(\"nisha\")\n",
    "del s1\n",
    "print(s1)\n"
   ]
  },
  {
   "cell_type": "code",
   "execution_count": 30,
   "id": "5c3bc331-ab29-4dfa-85bb-5ada00b96c85",
   "metadata": {},
   "outputs": [
    {
     "name": "stdout",
     "output_type": "stream",
     "text": [
      "1234\n",
      "4567890\n",
      "None\n"
     ]
    }
   ],
   "source": [
    "#private attributes and methods\n",
    "class Account:\n",
    "    def __init__(self,accno,password):\n",
    "        self.__accn=accno\n",
    "        self.__password=password\n",
    "    def reset(self):\n",
    "        print(self.__accn)\n",
    "        print(self.__password)\n",
    "p1=Account(1234,4567890)\n",
    "print(p1.reset())\n",
    "   "
   ]
  },
  {
   "cell_type": "code",
   "execution_count": 41,
   "id": "43334eaf-4a12-4936-9902-d3d43e337d6a",
   "metadata": {},
   "outputs": [
    {
     "name": "stdout",
     "output_type": "stream",
     "text": [
      "hello person\n",
      "None\n",
      "None\n"
     ]
    }
   ],
   "source": [
    "class person:\n",
    "    __name='nisha'\n",
    "    def __hello(self):\n",
    "        print(\"hello person\")\n",
    "        \n",
    "    def welcome(self):\n",
    "       print(self.__hello())\n",
    "        \n",
    "\n",
    "p1=person()\n",
    "print(p1.welcome())"
   ]
  },
  {
   "cell_type": "code",
   "execution_count": 54,
   "id": "eaf64d8c-698e-45cf-a254-fd29ac470469",
   "metadata": {},
   "outputs": [
    {
     "name": "stdout",
     "output_type": "stream",
     "text": [
      "black\n",
      "car started\n",
      "None\n"
     ]
    }
   ],
   "source": [
    "#inheritance\n",
    "#single inheritance\n",
    "class car:\n",
    "    color=\"black\"\n",
    "    @staticmethod\n",
    "    def start():\n",
    "        print(\"car started\")\n",
    "\n",
    "    @staticmethod\n",
    "    def stop():\n",
    "        print(\"car stopped\")\n",
    "\n",
    "class tayotacar(car):\n",
    "    def __init__(self,name):\n",
    "        self.name=name\n",
    "\n",
    "ob1=tayotacar(\"fortuner\")\n",
    "ob2=tayotacar(\"alto\")\n",
    "print(ob1.color)\n",
    "print(ob2.start())\n",
    "    \n"
   ]
  },
  {
   "cell_type": "code",
   "execution_count": 59,
   "id": "82e5e2fd-a01b-4ef2-9c87-ee79a11971bb",
   "metadata": {},
   "outputs": [
    {
     "name": "stdout",
     "output_type": "stream",
     "text": [
      "car start\n"
     ]
    }
   ],
   "source": [
    "# multilevel inheritance\n",
    "class car:\n",
    "    brand=\"brn1\"\n",
    "    @staticmethod\n",
    "    def start():\n",
    "        print(\"car start\")\n",
    "    @staticmethod\n",
    "    def stop():\n",
    "        print(\"car stop\")\n",
    "class tayota(car):\n",
    "    def __init__(self,name):\n",
    "        self.name=name\n",
    "class alto(tayota):\n",
    "    def __init__(self,color):\n",
    "        self.colr=color\n",
    "ob1=alto(\"black\")\n",
    "ob1.start()\n",
    "\n",
    "    "
   ]
  },
  {
   "cell_type": "code",
   "execution_count": 63,
   "id": "6e3a719e-d602-423e-8d14-600aff6deebe",
   "metadata": {},
   "outputs": [
    {
     "name": "stdout",
     "output_type": "stream",
     "text": [
      "nishanishu\n",
      "nishuraghav\n",
      "nisharaghav\n"
     ]
    }
   ],
   "source": [
    "#multiple inheritance\n",
    "class A:\n",
    "    var1=\"nisharaghav\"\n",
    "class B:\n",
    "    var2=\"nishuraghav\"\n",
    "class C(A,B):\n",
    "    var3=\"nishanishu\"\n",
    "\n",
    "ob1=C()\n",
    "print(ob1.var3)\n",
    "print(ob1.var2)\n",
    "print(ob1.var1)\n"
   ]
  },
  {
   "cell_type": "code",
   "execution_count": 26,
   "id": "56cef174-f4d6-43bb-98c0-058093390947",
   "metadata": {},
   "outputs": [
    {
     "name": "stdout",
     "output_type": "stream",
     "text": [
      "car start\n"
     ]
    },
    {
     "data": {
      "text/plain": [
       "'xyz'"
      ]
     },
     "execution_count": 26,
     "metadata": {},
     "output_type": "execute_result"
    }
   ],
   "source": [
    "#super method \n",
    "class car:\n",
    "    def __init__(self,type):\n",
    "        self.type=type\n",
    "    @staticmethod\n",
    "    def start():\n",
    "        print(\"car start\")\n",
    "    @staticmethod\n",
    "    def stop():\n",
    "        print(\"car stop\")\n",
    "\n",
    "class tayota(car):\n",
    "    def __init__(self,name,type):\n",
    "        self.name=name\n",
    "        super().__init__(type)\n",
    "        super().start()\n",
    "ob1=tayota(\"abc\",\"xyz\")\n",
    "ob1.type\n"
   ]
  },
  {
   "cell_type": "code",
   "execution_count": 31,
   "id": "572dc3f8-9e55-4cef-b8a8-260bfef5040e",
   "metadata": {},
   "outputs": [
    {
     "name": "stdout",
     "output_type": "stream",
     "text": [
      "Raghav\n",
      "Raghav\n"
     ]
    }
   ],
   "source": [
    "class Person:\n",
    "    name=\"nisha\"\n",
    "    def __init__(self,name):\n",
    "        Person.name=name\n",
    "ob=Person(\"Raghav\")\n",
    "print(Person.name)\n",
    "print(ob.name)\n"
   ]
  },
  {
   "cell_type": "code",
   "execution_count": 32,
   "id": "09ce927d-fcda-4b92-9f83-d44f9e13e23a",
   "metadata": {},
   "outputs": [
    {
     "name": "stdout",
     "output_type": "stream",
     "text": [
      "mahi\n",
      "mahi\n"
     ]
    }
   ],
   "source": [
    "class Person:\n",
    "    name=\"nisha\"\n",
    "    def __init__(self,name):\n",
    "        self.__class__.name=\"mahi\"\n",
    "ob=Person(\"Raghav\")\n",
    "print(Person.name)\n",
    "print(ob.name)\n"
   ]
  },
  {
   "cell_type": "code",
   "execution_count": 37,
   "id": "8b05b45b-e82b-4309-8c0c-802745446c7a",
   "metadata": {},
   "outputs": [
    {
     "name": "stdout",
     "output_type": "stream",
     "text": [
      "mahi\n"
     ]
    },
    {
     "ename": "AttributeError",
     "evalue": "'student' object has no attribute 'student'",
     "output_type": "error",
     "traceback": [
      "\u001b[31m---------------------------------------------------------------------------\u001b[39m",
      "\u001b[31mAttributeError\u001b[39m                            Traceback (most recent call last)",
      "\u001b[36mCell\u001b[39m\u001b[36m \u001b[39m\u001b[32mIn[37]\u001b[39m\u001b[32m, line 11\u001b[39m\n\u001b[32m      9\u001b[39m ob1.changename(\u001b[33m\"\u001b[39m\u001b[33mmahi\u001b[39m\u001b[33m\"\u001b[39m)\n\u001b[32m     10\u001b[39m \u001b[38;5;28mprint\u001b[39m(ob1.name)\n\u001b[32m---> \u001b[39m\u001b[32m11\u001b[39m \u001b[38;5;28mprint\u001b[39m(\u001b[43mob1\u001b[49m\u001b[43m.\u001b[49m\u001b[43mstudent\u001b[49m)\n",
      "\u001b[31mAttributeError\u001b[39m: 'student' object has no attribute 'student'"
     ]
    }
   ],
   "source": [
    "class student:\n",
    "    name=\"nisha\"\n",
    "\n",
    "    @classmethod\n",
    "    def changename(cls,name):\n",
    "        cls.name=name\n",
    "\n",
    "ob1=student()\n",
    "ob1.changename(\"mahi\")\n",
    "print(ob1.name)\n"
   ]
  },
  {
   "cell_type": "code",
   "execution_count": null,
   "id": "d3c1cd74-24c1-46f6-a68e-820f567d20ae",
   "metadata": {},
   "outputs": [],
   "source": []
  },
  {
   "cell_type": "code",
   "execution_count": null,
   "id": "4e815ac5-a73c-43fe-b9ec-2905daaf91b1",
   "metadata": {},
   "outputs": [],
   "source": []
  }
 ],
 "metadata": {
  "kernelspec": {
   "display_name": "Python 3 (ipykernel)",
   "language": "python",
   "name": "python3"
  },
  "language_info": {
   "codemirror_mode": {
    "name": "ipython",
    "version": 3
   },
   "file_extension": ".py",
   "mimetype": "text/x-python",
   "name": "python",
   "nbconvert_exporter": "python",
   "pygments_lexer": "ipython3",
   "version": "3.13.4"
  }
 },
 "nbformat": 4,
 "nbformat_minor": 5
}
