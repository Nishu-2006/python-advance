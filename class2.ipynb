{
 "cells": [
  {
   "cell_type": "code",
   "execution_count": 3,
   "id": "893ba59b-f13f-4ec3-a3fb-4627db60697a",
   "metadata": {},
   "outputs": [
    {
     "name": "stdout",
     "output_type": "stream",
     "text": [
      "230 has been deposits in your acccount\n",
      "available balance is : 1200230\n",
      "20 has been deposits in your acccount\n",
      "available balance is : 10000020\n",
      "10 has been withdrawn from your acccount\n",
      "available balance is : 1200220\n",
      "100000000 has been withdrawn from your acccount\n",
      "available balance is : -89999980\n"
     ]
    }
   ],
   "source": [
    "class Bank_account:\n",
    "    sr_n=0\n",
    "    def __init__(self,acc_no,name,balance):\n",
    "        self.acc_no=acc_no\n",
    "        self.name=name\n",
    "        self.balance=balance\n",
    "        self.sr_n+=1\n",
    "\n",
    "\n",
    "    def deposits(self,amount):\n",
    "        self.amount=amount\n",
    "        self.balance+=amount\n",
    "        print(f\"{self.amount} has been deposits in your acccount\")\n",
    "        print(\"available balance is :\",self.balance)\n",
    "\n",
    "    \n",
    "        \n",
    "    def withdrawn(self,amount):\n",
    "        self.amount=amount\n",
    "        self.balance-=amount\n",
    "        print(f\"{self.amount} has been withdrawn from your acccount\")\n",
    "        print(\"available balance is :\",self.balance)\n",
    "\n",
    "D1=Bank_account(12345678,\"nisha\",1200000)\n",
    "a1=Bank_account(23456789,\"dev\",10000000)\n",
    "D1.deposits(230)\n",
    "a1.deposits(20)\n",
    "D1.withdrawn(10)\n",
    "a1.withdrawn(100000000)\n"
   ]
  },
  {
   "cell_type": "code",
   "execution_count": 1,
   "id": "f4692eb2-8829-4a8e-97f5-54fe09f6635c",
   "metadata": {},
   "outputs": [
    {
     "name": "stdout",
     "output_type": "stream",
     "text": [
      "hellonisha\n"
     ]
    }
   ],
   "source": [
    "name=\"nisha\"\n",
    "print(\"hello\"+name)"
   ]
  },
  {
   "cell_type": "code",
   "execution_count": 9,
   "id": "741aeae6-382b-454f-a3b2-2e949d27190e",
   "metadata": {},
   "outputs": [
    {
     "name": "stdout",
     "output_type": "stream",
     "text": [
      "Nisha\n",
      "nisha\n"
     ]
    }
   ],
   "source": [
    "name=\"nisha\"\n",
    "print(name.capitalize())\n",
    "print(name)"
   ]
  },
  {
   "cell_type": "code",
   "execution_count": 19,
   "id": "29b8f3ec-f77b-402e-b096-b3289bfb2d67",
   "metadata": {},
   "outputs": [
    {
     "name": "stdout",
     "output_type": "stream",
     "text": [
      "p Raghav\n",
      "Nisha Raghav\n"
     ]
    }
   ],
   "source": [
    "name=\"Nisha Raghav\"\n",
    "print(name.replace(\"Nisha\",'p'))\n",
    "print(name)\n"
   ]
  },
  {
   "cell_type": "code",
   "execution_count": 21,
   "id": "9540d80e-1df0-4777-99ef-4a72d5eb7891",
   "metadata": {},
   "outputs": [
    {
     "name": "stdout",
     "output_type": "stream",
     "text": [
      "False\n"
     ]
    }
   ],
   "source": [
    "name=\"Nisha Raghav\"\n",
    "print('n' in name)"
   ]
  },
  {
   "cell_type": "markdown",
   "id": "f3c12cfd-de60-413b-ad80-5be74e60c570",
   "metadata": {},
   "source": [
    "#calculator\n",
    "a=int(input(\"Enter first num:\")\n",
    "operator=int(input(\"Enter operator(+,-,*,/,%):\")\n",
    "b=int(input(\"Enter second num:\")\n",
    "if operator == \"+\":\n",
    "    print(a+b)\n",
    "elif operator == \"-\"\n",
    "    print(a-b)\n",
    "elif operator == \"*\"\n",
    "    print(a*b)\n",
    "elif operator == \"/\"\n",
    "    print(a/b)\n",
    "elif operator == \"%\"\n",
    "    print(a%b)\n",
    "    \n",
    "\n",
    "\n",
    "\n"
   ]
  },
  {
   "cell_type": "code",
   "execution_count": null,
   "id": "26594c22-5175-4077-89d7-b5f5c438faee",
   "metadata": {},
   "outputs": [],
   "source": []
  }
 ],
 "metadata": {
  "kernelspec": {
   "display_name": "Python 3 (ipykernel)",
   "language": "python",
   "name": "python3"
  },
  "language_info": {
   "codemirror_mode": {
    "name": "ipython",
    "version": 3
   },
   "file_extension": ".py",
   "mimetype": "text/x-python",
   "name": "python",
   "nbconvert_exporter": "python",
   "pygments_lexer": "ipython3",
   "version": "3.13.4"
  }
 },
 "nbformat": 4,
 "nbformat_minor": 5
}
