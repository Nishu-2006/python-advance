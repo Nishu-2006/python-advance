{
 "cells": [
  {
   "cell_type": "code",
   "execution_count": 3,
   "id": "b768fb9c-53be-4cf4-ac39-3a1a9ea5e2bd",
   "metadata": {},
   "outputs": [
    {
     "name": "stdin",
     "output_type": "stream",
     "text": [
      "Enter input nisha\n"
     ]
    },
    {
     "name": "stdout",
     "output_type": "stream",
     "text": [
      "upper case: 0\n",
      "lower case: 0\n",
      "vowel: 0\n",
      "consonant: 0\n",
      "space: 0\n"
     ]
    }
   ],
   "source": [
    "class string1:\n",
    "    def __init__(self,str):\n",
    "        self.str=str\n",
    "        self.upper=0\n",
    "        self.lower=0\n",
    "        self.vowel=0\n",
    "        self.consonant=0\n",
    "        self.space=0\n",
    "    def upper_case(self):\n",
    "        for i in self.str:\n",
    "            if i.isupper():\n",
    "                self.upper+=1\n",
    "    def lower_case(self):\n",
    "        for i in self.str:\n",
    "            if i.islower():\n",
    "                self.lower+=1\n",
    "    def vowel(self):\n",
    "        for i in self.str:\n",
    "            if i in \"aeiouAEIOU\":\n",
    "                self.vowel+=1\n",
    "    def consonant(self):\n",
    "        for i in self.str:\n",
    "            if i not in\"aeiouAEIOU\":\n",
    "                if i.isalpha():\n",
    "                    self.consonant+=1\n",
    "    def space(self):\n",
    "        for i in self.str:\n",
    "            if i.isspace():\n",
    "                self.space+=1\n",
    "\n",
    "    def display(self):\n",
    "        print(\"upper case:\",self.upper)\n",
    "        print(\"lower case:\",self.lower)\n",
    "        print(\"vowel:\",self.vowel)\n",
    "        print(\"consonant:\",self.consonant)\n",
    "        print(\"space:\",self.space)\n",
    "        \n",
    "    \n",
    "s=input(\"Enter input\")\n",
    "o=string1(s)\n",
    "o.upper_case()\n",
    "o.display()\n",
    "            "
   ]
  },
  {
   "cell_type": "code",
   "execution_count": 10,
   "id": "0f467c69-ddea-409d-a031-4f420ce6bdc7",
   "metadata": {},
   "outputs": [
    {
     "name": "stdout",
     "output_type": "stream",
     "text": [
      "2\n",
      "3\n",
      "5\n",
      "8\n",
      "2,3,5,8,13,21,34,55,89,144,"
     ]
    }
   ],
   "source": [
    "#program to create iterator for fibonacci series\n",
    "class Fib:\n",
    "    def __init__(self,stop):\n",
    "        self.a=1\n",
    "        self.b=1\n",
    "        self.n=0\n",
    "        self.stop=stop\n",
    "    def __iter__(self):\n",
    "        return self\n",
    "    def __next__(self):\n",
    "        self.n+=1\n",
    "        if self.n<=self.stop:\n",
    "            c=self.a+self.b\n",
    "            self.a=self.b\n",
    "            self.b=c\n",
    "            return c\n",
    "        else:\n",
    "            raise StopIteration\n",
    "f1=Fib(5)\n",
    "fi=iter(f1)\n",
    "print(next(f1))\n",
    "print(next(f1))\n",
    "print(next(f1))\n",
    "print(next(f1))\n",
    "\n",
    "for i in Fib(10):\n",
    "    print(i,end=',')\n",
    "\n",
    "\n"
   ]
  },
  {
   "cell_type": "markdown",
   "id": "84950a69-758b-4886-a301-82e6e1fccf5e",
   "metadata": {},
   "source": [
    "☘️Generator function in python--------\n",
    "*python generator is usesd to create iterators and return a traversal object. it helps to tranverse all the iytems one at a time present in the iterator. \n",
    "*generator fun are normally defines as the normal fun but to identify the difference bw normal function andf generator function.\n",
    "\n",
    "Normal function=return\n",
    "Generator function=yield"
   ]
  },
  {
   "cell_type": "code",
   "execution_count": 13,
   "id": "fdfb050a-66f5-40e2-b7b6-b77de978f403",
   "metadata": {},
   "outputs": [
    {
     "name": "stdout",
     "output_type": "stream",
     "text": [
      "<class 'function'>\n",
      "<class 'generator'>\n",
      "function begins\n",
      "0\n",
      "function continue\n",
      "1\n"
     ]
    }
   ],
   "source": [
    "def fun1():\n",
    "    i=0\n",
    "    print(\"function begins\")\n",
    "    yield i\n",
    "    i+=1\n",
    "    print(\"function continue\")\n",
    "    yield i\n",
    "ob1=fun1()\n",
    "print(type(fun1))\n",
    "print(type(ob1))\n",
    "print(next(ob1))\n",
    "print(next(ob1))\n",
    "\n",
    "          \n"
   ]
  },
  {
   "cell_type": "code",
   "execution_count": 16,
   "id": "2292255d-70ec-45df-9fe0-b666df2693d2",
   "metadata": {},
   "outputs": [
    {
     "name": "stdout",
     "output_type": "stream",
     "text": [
      "the no of 'a' in word is :4\n"
     ]
    }
   ],
   "source": [
    "#use of yield\n",
    "def printresult(string):\n",
    "    for i in string:\n",
    "        if i==\"a\":\n",
    "            yield i\n",
    "#initialise the string\n",
    "string=\"Agapastala\"\n",
    "ans=0\n",
    "print(\"the no of 'a' in word is :\",end=\"\")\n",
    "string = string.strip()\n",
    "for j in printresult(string):\n",
    "    ans=ans+1*-\n",
    "print(ans)\n",
    "    "
   ]
  },
  {
   "cell_type": "code",
   "execution_count": null,
   "id": "1a747b50-be94-4a46-845b-0ac26b47cbf8",
   "metadata": {},
   "outputs": [],
   "source": []
  }
 ],
 "metadata": {
  "kernelspec": {
   "display_name": "Python 3 (ipykernel)",
   "language": "python",
   "name": "python3"
  },
  "language_info": {
   "codemirror_mode": {
    "name": "ipython",
    "version": 3
   },
   "file_extension": ".py",
   "mimetype": "text/x-python",
   "name": "python",
   "nbconvert_exporter": "python",
   "pygments_lexer": "ipython3",
   "version": "3.13.4"
  }
 },
 "nbformat": 4,
 "nbformat_minor": 5
}
