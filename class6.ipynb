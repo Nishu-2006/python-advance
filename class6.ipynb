{
 "cells": [
  {
   "cell_type": "code",
   "execution_count": null,
   "id": "e67ab571-bb04-4a66-9ddc-523878f52cae",
   "metadata": {},
   "outputs": [],
   "source": [
    "class string1:\n",
    "    def __init__(self,str):\n",
    "        self.str=str\n",
    "        self.upper=0\n",
    "        self.lower=0\n",
    "        self.vowel=0\n",
    "        self.consonant=0\n",
    "        self.space=0\n",
    "    def upper_case(self):\n",
    "        for i in self.str:\n",
    "            if i.isupper():\n",
    "                self.upper+=1\n",
    "    def lower_case(self):\n",
    "        for i in self.str:\n",
    "            if i.islower():\n",
    "                self.lower+=1\n",
    "    def vowel(self):\n",
    "        for i in self.str:\n",
    "            if i in \"aeiouAEIOU\":\n",
    "                self.vowel+=1\n",
    "    def consonant(self):\n",
    "        for i in self.str:\n",
    "            if i not in\"aeiouAEIOU\":\n",
    "                if i.isalpha():\n",
    "                    self.consonant+=1\n",
    "    def space(self):\n",
    "        for i in self.str:\n",
    "            if i.isspace():\n",
    "                self.space+=1\n",
    "\n",
    "    def display(self):\n",
    "        print(\"upper case:\",self.upper)\n",
    "        print(\"lower case:\",self.lower)\n",
    "        print(\"vowel:\",self.vowel)\n",
    "        print(\"consonant:\",self.consonant)\n",
    "        print(\"space:\",self.space)\n",
    "        \n",
    "    \n",
    "s=input(\"enter the string\")\n",
    "s.upper_case()\n",
    "            \n"
   ]
  },
  {
   "cell_type": "code",
   "execution_count": 5,
   "id": "25a1bacb-22dd-43d3-8b28-76a2bc5febcb",
   "metadata": {},
   "outputs": [
    {
     "name": "stdout",
     "output_type": "stream",
     "text": [
      "start\n"
     ]
    }
   ],
   "source": [
    "class car:\n",
    "    def __init__(self):\n",
    "        self.accel=False\n",
    "        self.clutch=False\n",
    "    def start(self):\n",
    "        self.accel=True\n",
    "        self.clutch=True\n",
    "        print(\"start\")\n",
    "o1=car()\n",
    "o1.start()\n",
    "        \n",
    "        \n",
    "    \n",
    "    "
   ]
  },
  {
   "cell_type": "code",
   "execution_count": 20,
   "id": "f024364b-e119-4fb5-b214-03e6453c999b",
   "metadata": {},
   "outputs": [
    {
     "name": "stdout",
     "output_type": "stream",
     "text": [
      "2367878898\n",
      "12000\n"
     ]
    }
   ],
   "source": [
    "class Account:\n",
    "    def __init__(self,acc_no,balance):\n",
    "        self.acc_no=acc_no\n",
    "        self.balance=balance\n",
    "    def credit(self,amount):\n",
    "        self.amount=amount\n",
    "        self.balance+=amount\n",
    "        print(\"rs\",amount,\"was credit\")\n",
    "        print(self.balance)\n",
    "       \n",
    "    def debit(self,amount):\n",
    "        self.amount=amount\n",
    "        self.balance-=amount\n",
    "        print(\"rs\",amount,\"was debit\")\n",
    "        print(self.balance)\n",
    "\n",
    "    def get_balance(self):\n",
    "        return self.balance\n",
    "    \n",
    "        \n",
    "    \n",
    "obj=Account(2367878898,12000)\n",
    "print(obj.acc_no)\n",
    "print(obj.balance)"
   ]
  },
  {
   "cell_type": "code",
   "execution_count": 23,
   "id": "357b2be1-7c87-47fb-b93d-c17ce56d8b1a",
   "metadata": {},
   "outputs": [
    {
     "name": "stdout",
     "output_type": "stream",
     "text": [
      "rs 100 was credit\n",
      "12100\n",
      "rs 1000 was debit\n",
      "11100\n"
     ]
    }
   ],
   "source": [
    "class Account:\n",
    "    def __init__(self,acc_no,balance):\n",
    "        self.acc_no=acc_no\n",
    "        self.balance=balance\n",
    "    def credit(self,amount):\n",
    "        self.amount=amount\n",
    "        self.balance+=amount\n",
    "        print(\"rs\",amount,\"was credit\")\n",
    "        print(self.balance)\n",
    "       \n",
    "    def debit(self,amount):\n",
    "        self.amount=amount\n",
    "        self.balance-=amount\n",
    "        print(\"rs\",amount,\"was debit\")\n",
    "        print(self.balance)\n",
    "\n",
    "    def get_balance(self):\n",
    "        return self.balance\n",
    "    \n",
    "        \n",
    "    \n",
    "obj=Account(2367878898,12000)\n",
    "obj.credit(100)\n",
    "obj.debit(1000)"
   ]
  },
  {
   "cell_type": "code",
   "execution_count": 2,
   "id": "5615354a-2ba3-4a57-8d18-22a3b2c3442a",
   "metadata": {},
   "outputs": [
    {
     "name": "stdout",
     "output_type": "stream",
     "text": [
      "B.method() called\n",
      "[<class '__main__.B'>, <class '__main__.A'>, <class 'object'>]\n"
     ]
    }
   ],
   "source": [
    "#MRO\n",
    "class A:\n",
    "    def method(self):\n",
    "        print(\"A.method() called\")\n",
    "class B(A):\n",
    "    def method(self):\n",
    "        print(\"B.method() called\")\n",
    "b=B()\n",
    "b.method()\n",
    "print(B.mro())"
   ]
  },
  {
   "cell_type": "code",
   "execution_count": 4,
   "id": "ab59d943-79a9-45e2-973e-5e06e0a9b7e0",
   "metadata": {},
   "outputs": [
    {
     "name": "stdout",
     "output_type": "stream",
     "text": [
      "A.method() called\n",
      "[<class '__main__.C'>, <class '__main__.B'>, <class '__main__.A'>, <class 'object'>]\n"
     ]
    }
   ],
   "source": [
    "#multiple inheritance in mro\n",
    "class A:\n",
    "    def method(self):\n",
    "        print(\"A.method() called\")\n",
    "class B:\n",
    "    pass\n",
    "class C(B,A):\n",
    "    pass\n",
    "c=C()\n",
    "c.method()\n",
    "print(C.mro())\n",
    "\n"
   ]
  },
  {
   "cell_type": "code",
   "execution_count": 5,
   "id": "2942cc47-7d01-4d13-b3de-92b3ed5434be",
   "metadata": {},
   "outputs": [
    {
     "name": "stdout",
     "output_type": "stream",
     "text": [
      "[<class '__main__.D'>, <class '__main__.C'>, <class '__main__.A'>, <class '__main__.B'>, <class 'object'>]\n"
     ]
    }
   ],
   "source": [
    "#hybrid inheritance in mro\n",
    "class A:\n",
    "    def method(self):\n",
    "        print(\"A.method() called\")\n",
    "class B:\n",
    "     def method(self):\n",
    "        print(\"B.method() called\")\n",
    "class C(A,B):\n",
    "    pass\n",
    "class D(C,B):\n",
    "    pass\n",
    "d=D()\n",
    "d.method\n",
    "print(D.mro())\n",
    "\n",
    "    "
   ]
  },
  {
   "cell_type": "code",
   "execution_count": 9,
   "id": "7dea846e-9cfa-42e6-b422-5a62a5c2bdd1",
   "metadata": {},
   "outputs": [
    {
     "name": "stdout",
     "output_type": "stream",
     "text": [
      "120\n"
     ]
    }
   ],
   "source": [
    "#abstact class\n",
    "from abc import ABC,abstractmethod\n",
    "class Shape(ABC):\n",
    "    @abstractmethod\n",
    "    def area(self):\n",
    "        return 0\n",
    "class Rectangle(Shape):\n",
    "    def __init__(self):\n",
    "        self.length=10\n",
    "        self.bredth=12\n",
    "    def area(self):\n",
    "        return self.length*self.bredth\n",
    "rec=Rectangle()\n",
    "print(rec.area())\n",
    "        "
   ]
  },
  {
   "cell_type": "code",
   "execution_count": 16,
   "id": "7a63edbf-60ab-44e3-8472-84d8b8cb8178",
   "metadata": {},
   "outputs": [
    {
     "name": "stdout",
     "output_type": "stream",
     "text": [
      "5\n",
      "6\n",
      "4\n"
     ]
    }
   ],
   "source": [
    "#create an abstract class name polygon.create a abstract method in abstract class no. of sides\n",
    "#inherit polygon in pentagon,hexagon,quadrilateral\n",
    "from abc import ABC,abstractmethod\n",
    "class polygon(ABC):\n",
    "    @abstractmethod\n",
    "    def no_of_side(self):\n",
    "        return 0\n",
    "class pentagon(polygon):\n",
    "    def __init__(self):\n",
    "        self.sides=5\n",
    "    def no_of_side(self):\n",
    "        return self.sides\n",
    "        \n",
    "class hexagon(polygon):\n",
    "    def __init__(self):\n",
    "        self.sides1=6\n",
    "    def no_of_side(self):\n",
    "        return self.sides1\n",
    "class quadrilateral(polygon):\n",
    "    def __init__(self):\n",
    "        self.sides2=4\n",
    "    def no_of_side(self):\n",
    "        return self.sides2\n",
    "\n",
    "pent=pentagon()\n",
    "print(pent.no_of_side())\n",
    "he=hexagon()\n",
    "print(he.no_of_side())\n",
    "quad=quadrilateral()\n",
    "print(quad.no_of_side())\n"
   ]
  },
  {
   "cell_type": "markdown",
   "id": "2b08760b-1a01-48d0-8933-8c6f34348dc2",
   "metadata": {},
   "source": [
    "#polymorphism:\n",
    "#poly->many\n",
    "morph->ability to change\n",
    "it is the ablity of object to take many form .it allow to perform the same actoin in many differebt ways.\n",
    "\n",
    "TYPES OF POLYMORPHISM\n",
    "1.polymorphism in operator\n",
    "2.------------in built in function\n",
    "3.------------in class method\n",
    "4.------------in inheritance\n",
    "5.method of overloading\n",
    "6.operator overloading\n",
    "\n",
    "polymorphism in operator:\n",
    "1. '+'    int,   str=>tea+cher=teacher\n",
    "2. '*'     int=2*3,  str=>tea*2=teatea"
   ]
  },
  {
   "cell_type": "markdown",
   "id": "daa29ba4-9d20-46ca-b6a2-76b9df022344",
   "metadata": {},
   "source": [
    "☘️polymorphism in built in function-len"
   ]
  },
  {
   "cell_type": "code",
   "execution_count": 19,
   "id": "c7c9243e-d5a8-4ec2-a8fe-d851b6a41c58",
   "metadata": {},
   "outputs": [
    {
     "name": "stdout",
     "output_type": "stream",
     "text": [
      "petrol\n",
      "max speed 350\n",
      "diseal\n",
      "max speed 380\n"
     ]
    }
   ],
   "source": [
    "#☘️polymorphismm in class method\n",
    "class ferrari:\n",
    "    def fuel_type(self):\n",
    "        print(\"petrol\")\n",
    "    def max_speed(self):\n",
    "        print(\"max speed 350\")\n",
    "class BMW:\n",
    "    def fuel_type(self):\n",
    "        print(\"diseal\")\n",
    "    def max_speed(self):\n",
    "        print(\"max speed 380\")\n",
    "\n",
    "ferrari=ferrari()\n",
    "BMW=BMW()\n",
    "for car in (ferrari,BMW):\n",
    "    car.fuel_type()\n",
    "    car.max_speed()\n",
    "\n",
    "    "
   ]
  },
  {
   "cell_type": "code",
   "execution_count": 23,
   "id": "a61c2a29-10f7-4b4a-b44a-0673bb0331ff",
   "metadata": {},
   "outputs": [
    {
     "ename": "TypeError",
     "evalue": "add() missing 1 required positional argument: 'c'",
     "output_type": "error",
     "traceback": [
      "\u001b[31m---------------------------------------------------------------------------\u001b[39m",
      "\u001b[31mTypeError\u001b[39m                                 Traceback (most recent call last)",
      "\u001b[36mCell\u001b[39m\u001b[36m \u001b[39m\u001b[32mIn[23]\u001b[39m\u001b[32m, line 9\u001b[39m\n\u001b[32m      7\u001b[39m     x=a+b+c\n\u001b[32m      8\u001b[39m     \u001b[38;5;28;01mreturn\u001b[39;00m x\n\u001b[32m----> \u001b[39m\u001b[32m9\u001b[39m \u001b[43madd\u001b[49m\u001b[43m(\u001b[49m\u001b[32;43m9\u001b[39;49m\u001b[43m,\u001b[49m\u001b[32;43m6\u001b[39;49m\u001b[43m)\u001b[49m\n\u001b[32m     10\u001b[39m add(\u001b[32m1\u001b[39m,\u001b[32m2\u001b[39m,\u001b[32m3\u001b[39m)\n",
      "\u001b[31mTypeError\u001b[39m: add() missing 1 required positional argument: 'c'"
     ]
    }
   ],
   "source": [
    "#program to demostrate method overloading\n",
    "#python does not support overloading we can use decorator to support overloading\n",
    "def add(a,b):\n",
    "    x=a+b\n",
    "    return x\n",
    "def add(a,b,c):\n",
    "    x=a+b+c\n",
    "    return x\n",
    "add(9,6)\n",
    "add(1,2,3)\n",
    "\n"
   ]
  },
  {
   "cell_type": "code",
   "execution_count": 29,
   "id": "02e4a02a-e391-4f22-a641-f5ed530da42b",
   "metadata": {},
   "outputs": [
    {
     "name": "stdout",
     "output_type": "stream",
     "text": [
      "13\n",
      "Attendence for3 lecture\n"
     ]
    }
   ],
   "source": [
    "#🍒there are two ways to achieve method overloading in python\n",
    "#1. by passing data type as first argument\n",
    "#2. using multiple dispatch decorator\n",
    "def add(dt,*args):\n",
    "    if dt=='int':\n",
    "        s=0\n",
    "    if dt=='str':\n",
    "        s=''\n",
    "    for v in args:\n",
    "        s=s+v\n",
    "    return s\n",
    "print(add('int',0,5,8))\n",
    "print(add('str','Attendence',' for','3 lecture'))\n",
    "      "
   ]
  },
  {
   "cell_type": "code",
   "execution_count": 42,
   "id": "70e8de45-5b60-4cfa-9056-7df92074e848",
   "metadata": {},
   "outputs": [
    {
     "name": "stdout",
     "output_type": "stream",
     "text": [
      "selling price:100\n",
      "selling price:9000\n"
     ]
    }
   ],
   "source": [
    "class computer:\n",
    "    def __init__(self):\n",
    "        self.__maxprice=100\n",
    "    def sell(self):\n",
    "        print(\"selling price:{}\".format(self.__maxprice))\n",
    "    def set_max_price(self,price):\n",
    "        self.__maxprice=price\n",
    "c=computer()\n",
    "c.sell()\n",
    "\n",
    "c.set_max_price(9000)\n",
    "c.sell()\n"
   ]
  },
  {
   "cell_type": "markdown",
   "id": "024fe518-391b-41a8-bc91-023d4cd378af",
   "metadata": {},
   "source": [
    "Access modifierb in python:\n",
    "it is used to \n",
    "1. public\n",
    "2. protected\n",
    "3. private\n",
    "\n",
    "\n",
    "🌺protected modifier:\n",
    "the member of the class that are declared protected are only accessible to a class derived from it\n",
    "\n",
    "Data members of a class are declared protected by adding 'a single underscore_' symbol before data members of that class.\n"
   ]
  },
  {
   "cell_type": "code",
   "execution_count": null,
   "id": "25a19876-4a8d-4091-b094-ae5e39d3291b",
   "metadata": {},
   "outputs": [],
   "source": [
    "class student:\n",
    "    _name=None\n",
    "    _rollno=None\n",
    "    _branch=None\n",
    "    def __init__(self,name,rollno,branch):\n",
    "        self._name=name\n",
    "        self._rollno=rollno\n",
    "        self._branch=branch\n",
    "    def display_info(self):\n",
    "        print(\"rollno:\",self._rollno)\n",
    "        print(\"name:\",self._name)\n",
    "        print(\"branch:\",self._branch)\n",
    "class NIET(student):\n",
    "    def __init__(self,name,rollno,branch):\n",
    "        student.__init__(self,name,rollno,branch)\n",
    "    def display(self):\n",
    "        print(\"name:\",self.name)\n",
    "        self.display_info()\n",
    "N=NIET('xyz',103,'cse')\n",
    "N.display()"
   ]
  },
  {
   "cell_type": "code",
   "execution_count": null,
   "id": "50386d7b-3f75-49e1-9a89-75f2d944c443",
   "metadata": {},
   "outputs": [],
   "source": [
    "class student:\n",
    "    _name=None\n",
    "    _rollno=None\n",
    "    _branch=None\n",
    "    def __init__(self,name,rollno,branch):\n",
    "        self._name=name\n",
    "        self._rollno=rollno\n",
    "        self._branch=branch\n",
    "    def display_info(self):\n",
    "        print(\"rollno:\",self._rollno)\n",
    "        print(\"name:\",self._name)\n",
    "        print(\"branch:\",self._branch)\n",
    "class NIET(student):\n",
    "    def __init__(self,name,rollno,branch):\n",
    "        student.__init__(self,name,rollno,branch)\n",
    "    def display(self):\n",
    "        print(\"name:\",self.name)\n",
    "        self.display_info()\n",
    "N=NIET('xyz',103,'cse')\n",
    "N.display()"
   ]
  }
 ],
 "metadata": {
  "kernelspec": {
   "display_name": "Python 3 (ipykernel)",
   "language": "python",
   "name": "python3"
  },
  "language_info": {
   "codemirror_mode": {
    "name": "ipython",
    "version": 3
   },
   "file_extension": ".py",
   "mimetype": "text/x-python",
   "name": "python",
   "nbconvert_exporter": "python",
   "pygments_lexer": "ipython3",
   "version": "3.13.4"
  }
 },
 "nbformat": 4,
 "nbformat_minor": 5
}
